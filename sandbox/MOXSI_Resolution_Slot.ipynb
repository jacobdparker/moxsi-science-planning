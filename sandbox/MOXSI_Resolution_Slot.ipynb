{
 "cells": [
  {
   "cell_type": "code",
   "execution_count": 1,
   "metadata": {},
   "outputs": [],
   "source": [
    "import scipy.io\n",
    "import matplotlib.pyplot as plt\n",
    "import numpy as np\n",
    "import scipy.fft\n",
    "import astropy.units as u\n",
    "from astropy.visualization import quantity_support"
   ]
  },
  {
   "cell_type": "code",
   "execution_count": 2,
   "metadata": {},
   "outputs": [
    {
     "data": {
      "text/plain": "<astropy.visualization.units.quantity_support.<locals>.MplQuantityConverter at 0x247130d8df0>"
     },
     "execution_count": 2,
     "metadata": {},
     "output_type": "execute_result"
    }
   ],
   "source": [
    "# %matplotlib notebook\n",
    "# %reload_ext autoreload\n",
    "# %autoreload 2\n",
    "\n",
    "quantity_support()"
   ]
  },
  {
   "cell_type": "markdown",
   "metadata": {},
   "source": [
    "Start by defining the MOXSI aperture (pinhole)"
   ]
  },
  {
   "cell_type": "code",
   "execution_count": 3,
   "metadata": {},
   "outputs": [
    {
     "data": {
      "text/plain": "<matplotlib.collections.QuadMesh at 0x247141e2fe0>"
     },
     "execution_count": 3,
     "metadata": {},
     "output_type": "execute_result"
    },
    {
     "data": {
      "text/plain": "<Figure size 640x480 with 1 Axes>",
      "image/png": "[encoded data removed]"
     },
     "metadata": {},
     "output_type": "display_data"
    }
   ],
   "source": [
    "\n",
    "\n",
    "pinhole_diameter = 44\n",
    "center2center_distance = 440\n",
    "\n",
    "\n",
    "x_oversample = 4\n",
    "\n",
    "x = np.arange(4096*x_oversample)\n",
    "x = x - x.shape[0]//2\n",
    "\n",
    "\n",
    "y = x.copy()\n",
    "\n",
    "shp_x = x.shape[0]\n",
    "x = x[...,None]\n",
    "y = y[None,...]\n",
    "\n",
    "x = np.broadcast_to(x,(shp_x,shp_x))\n",
    "y = np.broadcast_to(y,(shp_x,shp_x))\n",
    "\n",
    "\n",
    "#shift coordinate system\n",
    "x_shift = x-center2center_distance/2 * x_oversample\n",
    "\n",
    "r = np.sqrt(x_shift*x_shift + y*y)\n",
    "pinhole = np.ones_like(r)\n",
    "pinhole[r<pinhole_diameter/2 * x_oversample] = 0\n",
    "\n",
    "#shift coordinate system\n",
    "x_shift = x+center2center_distance/2 * x_oversample\n",
    "\n",
    "r = np.sqrt(x_shift*x_shift + y*y)\n",
    "pinhole2 = np.ones_like(r)\n",
    "pinhole2[r<pinhole_diameter/2 * x_oversample] = 0\n",
    "\n",
    "\n",
    "x_cut = np.ones_like(r)\n",
    "y_cut = np.ones_like(r)\n",
    "\n",
    "x_cut *= x > -center2center_distance / 2 * x_oversample\n",
    "x_cut *= x < center2center_distance / 2 * x_oversample\n",
    "\n",
    "y_cut *= y > -pinhole_diameter/2 * x_oversample\n",
    "y_cut *= y < pinhole_diameter/2 * x_oversample\n",
    "\n",
    "rectangle = x_cut * y_cut\n",
    "rectangle = 0**rectangle\n",
    "\n",
    "aperture_shape = pinhole * pinhole2 * rectangle\n",
    "# aperture = rectangle\n",
    "fig, ax = plt.subplots()\n",
    "ax.pcolormesh(x, y, aperture_shape)\n"
   ]
  },
  {
   "cell_type": "code",
   "execution_count": 4,
   "metadata": {},
   "outputs": [],
   "source": [
    "# wv = 10*u.AA\n",
    "# f = 19*u.cm\n",
    "#\n",
    "# aperture = shp_x * u.micron\n",
    "#\n",
    "#\n",
    "#\n",
    "# f_number = f/aperture\n",
    "#\n",
    "# fresnel_zone = np.sqrt(wv*f).to(u.micron)\n",
    "# print('First Fresnel Zone Diameter', fresnel_zone*2)\n",
    "#\n",
    "# oversample = 4\n",
    "#\n",
    "# dx = wv * f_number / oversample\n",
    "# dx = dx.to(u.micron)\n",
    "#\n",
    "#|\n",
    "# wfe = pinhole * 1e9 * 1j\n",
    "\n",
    "def wfe2psf(wfe,oversample):\n",
    "    shp = wfe.shape[0]\n",
    "    waves = np.exp(2*np.pi*wfe*1j)\n",
    "\n",
    "    big_waves = np.zeros((shp*oversample,shp*oversample),dtype='complex')\n",
    "    big_waves[0:shp,0:shp] = waves\n",
    "\n",
    "    psf = scipy.fft.fft2(big_waves, workers=-1)\n",
    "    psf = np.abs(psf)**2\n",
    "    psf /= psf.max()\n",
    "\n",
    "    psf = np.roll(psf,(shp//2,shp//2),axis=[0,1])\n",
    "    psf = psf[0:shp,0:shp]\n",
    "\n",
    "    return psf\n",
    "\n",
    "# print(psf.shape)\n",
    "# fig,ax = plt.subplots()\n",
    "# ax.plot(x[:,shp_x//2]*dx,psf[:,shp_x//2])"
   ]
  },
  {
   "cell_type": "markdown",
   "metadata": {},
   "source": [
    "Add Fresnel Phase Factor"
   ]
  },
  {
   "cell_type": "code",
   "execution_count": 5,
   "metadata": {},
   "outputs": [
    {
     "name": "stdout",
     "output_type": "stream",
     "text": [
      "7.404377660152177 arcsec / pix\n",
      "47.607421875\n"
     ]
    }
   ],
   "source": [
    "f = 19.5*u.cm\n",
    "pixel_pitch = 7*u.micron/u.pixel\n",
    "\n",
    "spatial_plate_scale = (pixel_pitch/f).to(1/u.pixel)*u.radian\n",
    "spatial_plate_scale = spatial_plate_scale.to(u.arcsec/u.pixel)\n",
    "print(spatial_plate_scale)\n",
    "\n",
    "aperture_extent = (shp_x / x_oversample) * u.micron\n",
    "f_number = f/aperture_extent\n",
    "print(f_number.to(u.micron/u.micron))"
   ]
  },
  {
   "cell_type": "code",
   "execution_count": null,
   "outputs": [
    {
     "name": "stdout",
     "output_type": "stream",
     "text": [
      "First Fresnel Zone Diameter 27.92848008753789 micron\n",
      "0.047607421875 Angstrom cm / micron\n",
      "0.047607421875000014 micron\n",
      "(16384, 16384)\n",
      "(16384, 16384)\n",
      "First Fresnel Zone Diameter 39.496835316263 micron\n",
      "0.09521484375 Angstrom cm / micron\n",
      "0.09521484375000003 micron\n"
     ]
    }
   ],
   "source": [
    "\n",
    "fig, ax = plt.subplots()\n",
    "\n",
    "\n",
    "wvs = [5*u.AA, 10*u.AA, 25*u.AA, 50*u.AA]\n",
    "ovs = [2,1,1,1]\n",
    "\n",
    "wvs = [10*u.AA, 20*u.AA]\n",
    "ovs = [1,1]\n",
    "\n",
    "# wvs = [10*u.AA]\n",
    "# ovs = [1]\n",
    "\n",
    "psfs = []\n",
    "xs = []\n",
    "for wv,oversample in zip(wvs,ovs):\n",
    "\n",
    "    fresnel_zone = np.sqrt(wv*f).to(u.micron)\n",
    "    print('First Fresnel Zone Diameter', fresnel_zone*2)\n",
    "\n",
    "    # oversample = 4  #computes aperture FFT on a different grid to properly resolve the PSF\n",
    "\n",
    "\n",
    "    wfe = aperture_shape * 1e9 * 1j\n",
    "\n",
    "    dx = wv * f_number / oversample\n",
    "\n",
    "    print(dx)\n",
    "    dx = dx.to(u.micron)\n",
    "    print(dx)\n",
    "    dx = dx/pixel_pitch*spatial_plate_scale\n",
    "\n",
    "\n",
    "\n",
    "    fresnel_wfe = 1/(2*wv*f)*((x*x+y*y)/x_oversample**2) * u.micron**2 + 0.j\n",
    "    fresnel_wfe = fresnel_wfe.value\n",
    "    wfe_total = wfe+fresnel_wfe\n",
    "\n",
    "    # psf = wfe2psf(wfe,oversample)\n",
    "    fresnel_psf = wfe2psf(wfe_total,oversample)\n",
    "    fig_2, ax_2 =plt.subplots()\n",
    "    ax_2.pcolormesh(x*dx,y*dx, fresnel_psf)\n",
    "\n",
    "\n",
    "    print(x.shape)\n",
    "    print(fresnel_psf.shape)\n",
    "    x_1D = x[:, shp_x // 2] * dx\n",
    "    psf_1D = fresnel_psf[:, shp_x // 2]\n",
    "    ax.plot(x_1D, psf_1D, label=wv)\n",
    "    psfs.append(psf_1D)\n",
    "    xs.append(x_1D)\n",
    "\n",
    "pin = pinhole_diameter*u.micron / pixel_pitch*spatial_plate_scale / 2\n",
    "ax.vlines([-pin,pin],[0,0],[1,1],color = 'black', label='pinhole')\n",
    "\n",
    "ax.set_xlim([-300*u.arcsec, 300*u.arcsec])\n",
    "ax.legend()\n",
    "ax.set_title('PSF for f ='+str(f)+' and d='+str(pinhole_diameter*u.micron))\n",
    "\n",
    "\n",
    "    # ax.plot(x[:,shp_x//2]*dx,psf[:,shp_x//2])\n"
   ],
   "metadata": {
    "collapsed": false,
    "pycharm": {
     "is_executing": true
    }
   }
  },
  {
   "cell_type": "code",
   "execution_count": null,
   "outputs": [],
   "source": [
    "import scipy.interpolate\n",
    "\n",
    "\n",
    "new_x = np.linspace(-75,75,301) * u.arcsec\n",
    "\n",
    "fig,ax = plt.subplots()\n",
    "new_psfs = []\n",
    "for psf, x  in zip(psfs,xs):\n",
    "    func = scipy.interpolate.interp1d(x = x, y = psf)\n",
    "    new_psf = func(new_x)\n",
    "    new_psfs.append(new_psf)\n",
    "    ax.plot(new_x,new_psf)\n",
    "\n",
    "ax.vlines([-pin,pin],[0,0],[1,1],color = 'black', label='pinhole')\n",
    "\n",
    "ax.set_xlim([-50*u.arcsec, 50*u.arcsec])\n",
    "ax.legend()\n",
    "ax.set_title('PSF for f ='+str(f)+' and d='+str(pinhole_diameter*u.micron))\n",
    "\n"
   ],
   "metadata": {
    "collapsed": false,
    "pycharm": {
     "is_executing": true
    }
   }
  },
  {
   "cell_type": "code",
   "execution_count": null,
   "outputs": [],
   "source": [
    "sigma = 7 * u.arcsec\n",
    "PV = 30 * u.arcsec\n",
    "jitter_gaussian = np.exp(-new_x**2/(2*sigma**2))\n",
    "jitter_rect = np.ones_like(new_x)\n",
    "jitter_rect[new_x > PV/2] = 0\n",
    "jitter_rect[new_x < -PV/2] = 0\n",
    "\n",
    "fig,ax = plt.subplots()\n",
    "ax.plot(new_x,jitter_gaussian)\n",
    "ax.plot(new_x,jitter_rect.value)"
   ],
   "metadata": {
    "collapsed": false,
    "pycharm": {
     "is_executing": true
    }
   }
  },
  {
   "cell_type": "code",
   "execution_count": null,
   "outputs": [],
   "source": [
    "fig, ax = plt.subplots()\n",
    "for psf in new_psfs:\n",
    "    rect_psf = np.convolve(psf,jitter_rect,mode='same')\n",
    "    rect_psf /= rect_psf.sum()\n",
    "    ax.plot(new_x,rect_psf)\n",
    "    print('FWHM = ' +str(2*np.abs(new_x[np.argmin(np.abs(rect_psf-rect_psf.max()*.5))])))\n",
    "\n"
   ],
   "metadata": {
    "collapsed": false,
    "pycharm": {
     "is_executing": true
    }
   }
  },
  {
   "cell_type": "code",
   "execution_count": null,
   "outputs": [],
   "source": [
    "fig, ax = plt.subplots()\n",
    "for psf in new_psfs:\n",
    "    gauss_psf = np.convolve(psf,jitter_gaussian,mode='same')\n",
    "    gauss_psf /= gauss_psf.sum()\n",
    "    ax.plot(new_x,gauss_psf)\n",
    "    print('FWHM = ' +str(2*np.abs(new_x[np.argmin(np.abs(gauss_psf-gauss_psf.max()*.5))])))\n"
   ],
   "metadata": {
    "collapsed": false,
    "pycharm": {
     "is_executing": true
    }
   }
  },
  {
   "cell_type": "code",
   "execution_count": null,
   "outputs": [],
   "source": [],
   "metadata": {
    "collapsed": false,
    "pycharm": {
     "is_executing": true
    }
   }
  }
 ],
 "metadata": {
  "kernelspec": {
   "display_name": "Python 3 (ipykernel)",
   "language": "python",
   "name": "python3"
  },
  "language_info": {
   "codemirror_mode": {
    "name": "ipython",
    "version": 3
   },
   "file_extension": ".py",
   "mimetype": "text/x-python",
   "name": "python",
   "nbconvert_exporter": "python",
   "pygments_lexer": "ipython3",
   "version": "3.9.13"
  }
 },
 "nbformat": 4,
 "nbformat_minor": 1
}
