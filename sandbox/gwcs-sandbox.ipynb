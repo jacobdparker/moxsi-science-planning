{
 "cells": [
  {
   "cell_type": "markdown",
   "id": "e9755a34",
   "metadata": {},
   "source": [
    "Useful links:\n",
    "* https://gwcs.readthedocs.io/en/latest/index.html\n",
    "* https://docs.astropy.org/en/stable/modeling/new-model.html#defining-new-model-classes ("
   ]
  },
  {
   "cell_type": "code",
   "execution_count": 2,
   "id": "809b8b3f",
   "metadata": {},
   "outputs": [],
   "source": [
    "import astropy.units as u\n",
    "import numpy as np\n",
    "from astropy.modeling import Model, Parameter\n",
    "from gwcs import coordinate_frames as cf\n",
    "\n",
    "from overlappy.wcs import overlappogram_fits_wcs, pcij_matrix"
   ]
  },
  {
   "cell_type": "code",
   "execution_count": 2,
   "id": "1f5efcd0",
   "metadata": {},
   "outputs": [],
   "source": [
    "class P2W(Model):\n",
    "    n_inputs = 4\n",
    "    n_outputs = 4\n",
    "    alpha = Parameter()\n",
    "    gamma = Parameter()\n",
    "    \n",
    "    @staticmethod\n",
    "    def order_to_index_mapping(index):\n",
    "        return [-3, -1, 0, +1, +3][index]\n",
    "    \n",
    "    @staticmethod\n",
    "    def evaluate(p1, p2, p3, p4, alpha, gamma):\n",
    "        m = P2W.order_to_index_mapping(p4)\n",
    "        x = np.cos(alpha) * p1 + np.sin(alpha) * p2 - np.sin(alpha - gamma) * p3 * p4\n",
    "        y = -np.sin(alpha) * p1 + np.cos(alpha) * p2 - np.cos(alpha - gamma) * p3 * p4\n",
    "        l = p3\n",
    "        m = p4\n",
    "        return x, y, l, m\n",
    "    \n",
    "    @property\n",
    "    def inverse(self):\n",
    "        return W2P(alpha=self.alpha, gamma=self.gamma)"
   ]
  },
  {
   "cell_type": "code",
   "execution_count": 3,
   "id": "2cfcf625",
   "metadata": {},
   "outputs": [],
   "source": [
    "class W2P(Model):\n",
    "    n_inputs = 4\n",
    "    n_outputs = 4\n",
    "    alpha = Parameter()\n",
    "    gamma = Parameter()\n",
    "    \n",
    "    @staticmethod\n",
    "    def evaluate(x, y, l, m, alpha, gamma):\n",
    "        A = l * m\n",
    "        sa = np.sin(alpha)\n",
    "        ca = np.cos(alpha)\n",
    "        sg = np.sin(gamma)\n",
    "        cg = np.cos(gamma)\n",
    "        sag = np.sin(alpha - gamma)\n",
    "        cag = np.cos(alpha - gamma)\n",
    "        p2 = (y + A * cag + (sa / ca) * (x + A * sag)) / ((sa**2 / ca) - sa)\n",
    "        p1 = (x * A * sag - sa * p2) / ca\n",
    "        p3 = l\n",
    "        p4 = m\n",
    "        return p1, p2, p3, p4\n",
    "    \n",
    "    @property\n",
    "    def inverse(self):\n",
    "        return P2W(alpha=self.alpha, gamma=self.gamma)"
   ]
  },
  {
   "cell_type": "code",
   "execution_count": 82,
   "id": "f41017af",
   "metadata": {},
   "outputs": [],
   "source": [
    "a = P2W(alpha=0.5, gamma=0.1)"
   ]
  },
  {
   "cell_type": "code",
   "execution_count": 83,
   "id": "5636aa68",
   "metadata": {},
   "outputs": [
    {
     "data": {
      "text/plain": [
       "(1.8364336390987783, 1.275739585176542, 3.0, 0.0)"
      ]
     },
     "execution_count": 83,
     "metadata": {},
     "output_type": "execute_result"
    }
   ],
   "source": [
    "a(1, 2, 3, 0)"
   ]
  },
  {
   "cell_type": "code",
   "execution_count": 84,
   "id": "d8104ccc",
   "metadata": {},
   "outputs": [
    {
     "data": {
      "text/plain": [
       "(5.723841904984076, -10.477422328096562, 3.0, 0.0)"
      ]
     },
     "execution_count": 84,
     "metadata": {},
     "output_type": "execute_result"
    }
   ],
   "source": [
    "a.inverse(1.8364336390987783, 1.275739585176542, 3.0, 0.0)"
   ]
  },
  {
   "cell_type": "code",
   "execution_count": null,
   "id": "0bff239c",
   "metadata": {},
   "outputs": [],
   "source": [
    "pipeline = [(detector_frame = cf.Frame2D(name=\"detector\", axes_names=(\"x\", \"y\"),\n",
    "\n",
    "                            unit=(u.pix, u.pix)))]"
   ]
  },
  {
   "cell_type": "code",
   "execution_count": 4,
   "id": "87edfd2e",
   "metadata": {},
   "outputs": [],
   "source": [
    "cf.CompositeFrame?"
   ]
  },
  {
   "cell_type": "code",
   "execution_count": 10,
   "id": "a7c37e13",
   "metadata": {},
   "outputs": [],
   "source": [
    "mode_frame = cf.CoordinateFrame(1, \"SPECTRAL\", (3,), name=\"spectral order\")"
   ]
  },
  {
   "cell_type": "code",
   "execution_count": 13,
   "id": "c89e1397",
   "metadata": {},
   "outputs": [
    {
     "data": {
      "text/plain": [
       "<CoordinateFrame(name=\"spectral order\", unit=(Unit(dimensionless),), axes_names=('',), axes_order=(3,))>"
      ]
     },
     "execution_count": 13,
     "metadata": {},
     "output_type": "execute_result"
    }
   ],
   "source": [
    "mode_frame"
   ]
  },
  {
   "cell_type": "code",
   "execution_count": 11,
   "id": "6f8928b7",
   "metadata": {},
   "outputs": [
    {
     "data": {
      "text/plain": [
       "<CoordinateFrame(name=\"spectral order\", unit=(Unit(dimensionless),), axes_names=('',), axes_order=(3,))>"
      ]
     },
     "execution_count": 11,
     "metadata": {},
     "output_type": "execute_result"
    }
   ],
   "source": [
    "cf.SpectralFrame()"
   ]
  },
  {
   "cell_type": "code",
   "execution_count": 12,
   "id": "6eb7bfd8",
   "metadata": {},
   "outputs": [],
   "source": [
    "cf.SpectralFrame?"
   ]
  },
  {
   "cell_type": "code",
   "execution_count": 3,
   "id": "e46b7e4e-f490-4cce-9733-6e3532bcf401",
   "metadata": {},
   "outputs": [],
   "source": [
    "from sunpy.coordinates import get_earth"
   ]
  },
  {
   "cell_type": "code",
   "execution_count": 8,
   "id": "3c7a4b65",
   "metadata": {},
   "outputs": [
    {
     "name": "stderr",
     "output_type": "stream",
     "text": [
      "WARNING: FITSFixedWarning: 'datfix' made the change 'Set MJD-OBS to 59731.694387 from DATE-OBS'. [astropy.wcs.wcs]\n"
     ]
    }
   ],
   "source": [
    "det_shape = [475,1073]#*u.pix\n",
    "pc_matrix = pcij_matrix(0*u.deg, 0*u.deg, order=1)\n",
    "obs = get_earth()\n",
    "overlap_wcs = overlappogram_fits_wcs(det_shape,\n",
    "                       np.arange(1, 60, 0.05)*u.angstrom,\n",
    "                       (5*u.arcsec/u.pix,5*u.arcsec/u.pix,0.05*u.angstrom/u.pix),\n",
    "                       pc_matrix=pc_matrix,\n",
    "                       observer=obs\n",
    "                      )"
   ]
  },
  {
   "cell_type": "code",
   "execution_count": 13,
   "id": "d983de6e-a389-4379-a1b5-aa5c132903ec",
   "metadata": {},
   "outputs": [
    {
     "data": {
      "text/plain": [
       "WCSAXES =                    3 / Number of coordinate axes                      \n",
       "CRPIX1  =                537.0 / Pixel coordinate of reference point            \n",
       "CRPIX2  =                238.0 / Pixel coordinate of reference point            \n",
       "CRPIX3  =                  1.0 / Pixel coordinate of reference point            \n",
       "PC2_3   =                 -1.0 / Coordinate transformation matrix element       \n",
       "CDELT1  =   0.0013888888888889 / [deg] Coordinate increment at reference point  \n",
       "CDELT2  =   0.0013888888888889 / [deg] Coordinate increment at reference point  \n",
       "CDELT3  =                5E-12 / [m] Coordinate increment at reference point    \n",
       "CUNIT1  = 'deg'                / Units of coordinate increment and value        \n",
       "CUNIT2  = 'deg'                / Units of coordinate increment and value        \n",
       "CUNIT3  = 'm'                  / Units of coordinate increment and value        \n",
       "CTYPE1  = 'HPLN-TAN'           / Coordinate type codegnomonic projection        \n",
       "CTYPE2  = 'HPLT-TAN'           / Coordinate type codegnomonic projection        \n",
       "CTYPE3  = 'WAVE'               / Vacuum wavelength (linear)                     \n",
       "CRVAL1  =                  0.0 / [deg] Coordinate value at reference point      \n",
       "CRVAL2  =                  0.0 / [deg] Coordinate value at reference point      \n",
       "CRVAL3  =                1E-10 / [m] Coordinate value at reference point        \n",
       "LONPOLE =                180.0 / [deg] Native longitude of celestial pole       \n",
       "LATPOLE =                  0.0 / [deg] Native latitude of celestial pole        \n",
       "MJDREF  =                  0.0 / [d] MJD of fiducial time                       \n",
       "DATE-OBS= '2022-06-01T16:39:55.062' / ISO-8601 time of observation              \n",
       "MJD-OBS =      59731.694387292 / [d] MJD of observation                         \n",
       "RSUN_REF=          695700000.0 / [m] Solar radius                               \n",
       "DSUN_OBS=      151703005509.78 / [m] Distance from centre of Sun to observer    \n",
       "HGLN_OBS=                  0.0 / [deg] Stonyhurst heliographic lng of observer  \n",
       "HGLT_OBS=    -0.61415548139929 / [deg] Heliographic latitude of observer        "
      ]
     },
     "execution_count": 13,
     "metadata": {},
     "output_type": "execute_result"
    }
   ],
   "source": [
    "overlap_wcs.to_header()"
   ]
  },
  {
   "cell_type": "code",
   "execution_count": null,
   "id": "fcb62656-f98d-438a-8dbd-385e4f20b55a",
   "metadata": {},
   "outputs": [],
   "source": []
  }
 ],
 "metadata": {
  "kernelspec": {
   "display_name": "Python [conda env:mocksipipeline]",
   "language": "python",
   "name": "conda-env-mocksipipeline-py"
  },
  "language_info": {
   "codemirror_mode": {
    "name": "ipython",
    "version": 3
   },
   "file_extension": ".py",
   "mimetype": "text/x-python",
   "name": "python",
   "nbconvert_exporter": "python",
   "pygments_lexer": "ipython3",
   "version": "3.9.13"
  }
 },
 "nbformat": 4,
 "nbformat_minor": 5
}
