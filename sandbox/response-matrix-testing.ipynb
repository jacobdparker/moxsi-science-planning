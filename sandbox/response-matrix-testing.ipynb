{
 "cells": [
  {
   "cell_type": "markdown",
   "id": "f6600709-256a-44b1-bb6d-c087552ba0e5",
   "metadata": {},
   "source": [
    "# Response Matrix Testing\n",
    "\n",
    "In this notebook, I'm testing out the ability to construct a response matrix for MOXSI"
   ]
  },
  {
   "cell_type": "code",
   "execution_count": 85,
   "id": "07ddf08f-a2ac-4727-96bc-d872b23405cf",
   "metadata": {},
   "outputs": [],
   "source": [
    "import numpy as np\n",
    "import astropy.units as u\n",
    "import matplotlib.pyplot as plt\n",
    "from astropy.coordinates import SkyCoord\n",
    "from sunpy.coordinates import Helioprojective, get_horizons_coord\n",
    "from astropy.wcs.utils import pixel_to_pixel\n",
    "\n",
    "from mocksipipeline.detector.response import SpectrogramChannel\n",
    "from overlappy.wcs import overlappogram_fits_wcs, pcij_matrix"
   ]
  },
  {
   "cell_type": "markdown",
   "id": "c48877cc-81a2-470a-a8cf-8585a30cee40",
   "metadata": {},
   "source": [
    "First, we are going to define a WCS for the 0th order and the 1st order"
   ]
  },
  {
   "cell_type": "code",
   "execution_count": 89,
   "id": "68f9ad6c-bb9c-4a1c-9333-5bbae2900060",
   "metadata": {},
   "outputs": [],
   "source": [
    "chan_0 = SpectrogramChannel(0, [])\n",
    "chan_1 = SpectrogramChannel(1, [])\n",
    "chan_3 = SpectrogramChannel(3, [])\n",
    "chan_m1 = SpectrogramChannel(-1, [])\n",
    "chan_m3 = SpectrogramChannel(-3, [])"
   ]
  },
  {
   "cell_type": "code",
   "execution_count": 90,
   "id": "a78f269b-ea1f-43f9-b977-ac51a3e22f8b",
   "metadata": {},
   "outputs": [
    {
     "name": "stdout",
     "output_type": "stream",
     "text": [
      "INFO: Obtained JPL HORIZONS location for Solar Dynamics Observatory (spac [sunpy.coordinates.ephemeris]\n"
     ]
    }
   ],
   "source": [
    "observer = get_horizons_coord('SDO', '2020-11-09 18:00:00')\n",
    "hpc_frame = Helioprojective(observer=observer, obstime=observer.obstime)"
   ]
  },
  {
   "cell_type": "code",
   "execution_count": 88,
   "id": "55b6b6b7-9f37-4595-8807-ee83947615b9",
   "metadata": {},
   "outputs": [],
   "source": [
    "fov = (450,450)\n",
    "ref_pix = ((fov[1]+1)/2, (fov[0]+1)/2, 1) * u.pix\n",
    "pix_x = np.arange(fov[1]) #np.arange(775, 775+450, 1)#\n",
    "pix_x_index = np.round(pix_x).astype(int)\n",
    "pix_y = np.array(len(pix_x)*(fov[0]/2))"
   ]
  },
  {
   "cell_type": "code",
   "execution_count": 5,
   "id": "25d0f211-504d-44b3-80c9-49c88ffac780",
   "metadata": {},
   "outputs": [
    {
     "name": "stderr",
     "output_type": "stream",
     "text": [
      "WARNING: FITSFixedWarning: 'datfix' made the change 'Set MJD-OBS to 58849.000000 from DATE-OBS'. [astropy.wcs.wcs]\n"
     ]
    }
   ],
   "source": [
    "wcs_in = overlappogram_fits_wcs(\n",
    "    fov,\n",
    "    chan_0.wavelength,\n",
    "    (chan_0.resolution[0], chan_0.resolution[1], chan_0.spectral_resolution),\n",
    "    reference_pixel=ref_pix,\n",
    "    reference_coord=(0*u.arcsec, 0*u.arcsec, chan_0.wavelength[0]),\n",
    "    pc_matrix=pcij_matrix(-90*u.deg, 0*u.deg, order=chan_0.spectral_order, dispersion_axis=0),\n",
    "    observer=observer,\n",
    ")"
   ]
  },
  {
   "cell_type": "code",
   "execution_count": 46,
   "id": "5339051e-fb9d-44a1-ae78-e6adf0cca7ee",
   "metadata": {},
   "outputs": [
    {
     "name": "stdout",
     "output_type": "stream",
     "text": [
      "spectral order =  0\n"
     ]
    },
    {
     "name": "stderr",
     "output_type": "stream",
     "text": [
      "WARNING: FITSFixedWarning: 'datfix' made the change 'Set MJD-OBS to 58849.000000 from DATE-OBS'. [astropy.wcs.wcs]\n",
      "WARNING: No observer defined on WCS, SpectralCoord will be converted without any velocity frame change [astropy.wcs.wcsapi.fitswcs]\n"
     ]
    }
   ],
   "source": [
    "mixing_matrices = []\n",
    "for chan in [chan_0,]:# chan_1, chan_3, chan_m1, chan_m3]:\n",
    "    print('spectral order = ',chan.spectral_order)\n",
    "    wcs_out = overlappogram_fits_wcs(\n",
    "        chan.detector_shape,\n",
    "        chan.wavelength,\n",
    "        (chan.resolution[0], chan.resolution[1], chan.spectral_resolution),\n",
    "        reference_pixel=chan.reference_pixel,\n",
    "        reference_coord=(0*u.arcsec, 0*u.arcsec, chan.wavelength[0]),\n",
    "        pc_matrix=pcij_matrix(-90*u.deg, 0*u.deg, order=chan.spectral_order, dispersion_axis=0),\n",
    "        observer=observer,\n",
    "    )\n",
    "    mixing_matrix = np.zeros((pix_x.shape[0], chan_0.detector_shape[1]))\n",
    "    for iz in range(10):\n",
    "        pix_z = np.array(len(pix_x)*[iz])\n",
    "        pix_det,_,_ = pixel_to_pixel(wcs_in, wcs_out, pix_x, pix_y, pix_z)\n",
    "        pix_det_index = np.round(pix_det).astype(int)\n",
    "        in_bounds = np.logical_and(pix_det_index < mixing_matrix.shape[1],\n",
    "                                   pix_det_index >= 0)\n",
    "        mixing_matrix[pix_x_index[in_bounds], pix_det_index[in_bounds]] = 1\n",
    "    mixing_matrices.append(mixing_matrix.copy())"
   ]
  },
  {
   "cell_type": "code",
   "execution_count": 48,
   "id": "99d8261f-bb8a-4303-b487-31e934d5f5b4",
   "metadata": {},
   "outputs": [
    {
     "data": {
      "image/png": "[encoded data removed]",
      "text/plain": [
       "<Figure size 1500x300 with 2 Axes>"
      ]
     },
     "metadata": {},
     "output_type": "display_data"
    }
   ],
   "source": [
    "for m in mixing_matrices:\n",
    "    plt.figure(figsize=(15,3))\n",
    "    plt.imshow(m,  cmap='Greys',origin='lower', interpolation='none')\n",
    "    plt.colorbar()\n",
    "    #plt.xlim(775,1225)"
   ]
  },
  {
   "cell_type": "code",
   "execution_count": 49,
   "id": "b9e26ffa-19b1-49e9-b4df-968609fd8dee",
   "metadata": {},
   "outputs": [
    {
     "data": {
      "text/plain": [
       "<matplotlib.image.AxesImage at 0x169721160>"
      ]
     },
     "execution_count": 49,
     "metadata": {},
     "output_type": "execute_result"
    },
    {
     "data": {
      "image/png": "[encoded data removed]",
      "text/plain": [
       "<Figure size 640x480 with 1 Axes>"
      ]
     },
     "metadata": {},
     "output_type": "display_data"
    }
   ],
   "source": [
    "plt.imshow(mixing_matrix,#[:,775:1225],\n",
    "           interpolation='none', origin='lower', cmap='Greys')"
   ]
  },
  {
   "cell_type": "code",
   "execution_count": null,
   "id": "c4e878c6-a1c7-48f5-bf18-717014bd7b80",
   "metadata": {},
   "outputs": [],
   "source": []
  }
 ],
 "metadata": {
  "kernelspec": {
   "display_name": "Python [conda env:mocksipipeline]",
   "language": "python",
   "name": "conda-env-mocksipipeline-py"
  },
  "language_info": {
   "codemirror_mode": {
    "name": "ipython",
    "version": 3
   },
   "file_extension": ".py",
   "mimetype": "text/x-python",
   "name": "python",
   "nbconvert_exporter": "python",
   "pygments_lexer": "ipython3",
   "version": "3.9.13"
  }
 },
 "nbformat": 4,
 "nbformat_minor": 5
}
