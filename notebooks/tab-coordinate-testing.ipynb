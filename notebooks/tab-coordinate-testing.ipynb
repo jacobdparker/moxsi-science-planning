{
 "cells": [
  {
   "cell_type": "markdown",
   "metadata": {},
   "source": [
    "# Testing `-TAB` coordinate conventions"
   ]
  },
  {
   "cell_type": "code",
   "execution_count": 1,
   "metadata": {},
   "outputs": [],
   "source": [
    "import numpy as np\n",
    "from astropy.modeling import models\n",
    "from astropy import coordinates as coord\n",
    "from astropy import units as u\n",
    "from gwcs import wcs\n",
    "from gwcs import coordinate_frames as cf\n",
    "\n",
    "from ndcube.extra_coords import QuantityTableCoordinate"
   ]
  },
  {
   "cell_type": "code",
   "execution_count": 2,
   "metadata": {},
   "outputs": [],
   "source": [
    "wave = np.linspace(1, 60, 1073) * u.Angstrom"
   ]
  },
  {
   "cell_type": "code",
   "execution_count": 5,
   "metadata": {},
   "outputs": [],
   "source": [
    "crpix = (1,) * u.pix\n",
    "shift_by_crpix = models.Shift(-crpix[0])"
   ]
  },
  {
   "cell_type": "code",
   "execution_count": null,
   "metadata": {},
   "outputs": [],
   "source": []
  },
  {
   "cell_type": "code",
   "execution_count": 1,
   "metadata": {},
   "outputs": [],
   "source": [
    "spectral_order  = [-3, -1, 0, 1, 3]"
   ]
  },
  {
   "cell_type": "code",
   "execution_count": 5,
   "metadata": {},
   "outputs": [],
   "source": [
    "wave_gwcs = QuantityTableCoordinate(wave, names='wavelength', physical_types='em.wave').wcs"
   ]
  },
  {
   "cell_type": "code",
   "execution_count": 6,
   "metadata": {},
   "outputs": [
    {
     "data": {
      "text/plain": [
       "<WCS(output_frame=CoordinateFrame, input_frame=PixelFrame, forward_transform=Model: Tabular1D\n",
       "N_inputs: 1\n",
       "N_outputs: 1\n",
       "Parameters: \n",
       "  points: (<Quantity [0.000e+00, 1.000e+00, 2.000e+00, ..., 1.070e+03, 1.071e+03,\n",
       "           1.072e+03] pix>,)\n",
       "  lookup_table: [ 1.          1.05503731  1.11007463 ... 59.88992537 59.94496269\n",
       " 60.        ] Angstrom\n",
       "  method: linear\n",
       "  fill_value: nan\n",
       "  bounds_error: False)>"
      ]
     },
     "execution_count": 6,
     "metadata": {},
     "output_type": "execute_result"
    }
   ],
   "source": [
    "wave_gwcs"
   ]
  },
  {
   "cell_type": "code",
   "execution_count": 20,
   "metadata": {},
   "outputs": [
    {
     "ename": "UnitsError",
     "evalue": "Tabular1D: Units of input 'x', (dimensionless), could not be converted to required input units of pix (unknown)",
     "output_type": "error",
     "traceback": [
      "\u001b[0;31m---------------------------------------------------------------------------\u001b[0m",
      "\u001b[0;31mUnitsError\u001b[0m                                Traceback (most recent call last)",
      "\u001b[1;32m/Users/willbarnes/Documents/work/projects/moxsi-tools/notebooks/tab-coordinate-testing.ipynb Cell 9'\u001b[0m in \u001b[0;36m<module>\u001b[0;34m\u001b[0m\n\u001b[0;32m----> <a href='vscode-notebook-cell:/Users/willbarnes/Documents/work/projects/moxsi-tools/notebooks/tab-coordinate-testing.ipynb#ch0000008?line=0'>1</a>\u001b[0m wave_gwcs\u001b[39m.\u001b[39;49mto_fits_tab(bounding_box\u001b[39m=\u001b[39;49m[\u001b[39m1\u001b[39;49m,\u001b[39m1072\u001b[39;49m])\n",
      "File \u001b[0;32m~/anaconda/envs/moxsi-dev/lib/python3.9/site-packages/gwcs/wcs.py:2220\u001b[0m, in \u001b[0;36mWCS.to_fits_tab\u001b[0;34m(self, bounding_box, bin_ext_name, coord_col_name, sampling)\u001b[0m\n\u001b[1;32m   <a href='file:///Users/willbarnes/anaconda/envs/moxsi-dev/lib/python3.9/site-packages/gwcs/wcs.py?line=2214'>2215</a>\u001b[0m     \u001b[39mraise\u001b[39;00m \u001b[39mValueError\u001b[39;00m(\u001b[39m\"\u001b[39m\u001b[39mNumber of sampling values either must be 1 \u001b[39m\u001b[39m\"\u001b[39m\n\u001b[1;32m   <a href='file:///Users/willbarnes/anaconda/envs/moxsi-dev/lib/python3.9/site-packages/gwcs/wcs.py?line=2215'>2216</a>\u001b[0m                      \u001b[39m\"\u001b[39m\u001b[39mor it must match the number of pixel axes.\u001b[39m\u001b[39m\"\u001b[39m)\n\u001b[1;32m   <a href='file:///Users/willbarnes/anaconda/envs/moxsi-dev/lib/python3.9/site-packages/gwcs/wcs.py?line=2217'>2218</a>\u001b[0m _, world_axes \u001b[39m=\u001b[39m \u001b[39mself\u001b[39m\u001b[39m.\u001b[39m_separable_groups(detect_celestial\u001b[39m=\u001b[39m\u001b[39mFalse\u001b[39;00m)\n\u001b[0;32m-> <a href='file:///Users/willbarnes/anaconda/envs/moxsi-dev/lib/python3.9/site-packages/gwcs/wcs.py?line=2219'>2220</a>\u001b[0m hdr, bin_table_hdu \u001b[39m=\u001b[39m \u001b[39mself\u001b[39;49m\u001b[39m.\u001b[39;49m_to_fits_tab(\n\u001b[1;32m   <a href='file:///Users/willbarnes/anaconda/envs/moxsi-dev/lib/python3.9/site-packages/gwcs/wcs.py?line=2220'>2221</a>\u001b[0m     hdr\u001b[39m=\u001b[39;49m\u001b[39mNone\u001b[39;49;00m,\n\u001b[1;32m   <a href='file:///Users/willbarnes/anaconda/envs/moxsi-dev/lib/python3.9/site-packages/gwcs/wcs.py?line=2221'>2222</a>\u001b[0m     world_axes_group\u001b[39m=\u001b[39;49mworld_axes,\n\u001b[1;32m   <a href='file:///Users/willbarnes/anaconda/envs/moxsi-dev/lib/python3.9/site-packages/gwcs/wcs.py?line=2222'>2223</a>\u001b[0m     use_cd\u001b[39m=\u001b[39;49m\u001b[39mFalse\u001b[39;49;00m,\n\u001b[1;32m   <a href='file:///Users/willbarnes/anaconda/envs/moxsi-dev/lib/python3.9/site-packages/gwcs/wcs.py?line=2223'>2224</a>\u001b[0m     bounding_box\u001b[39m=\u001b[39;49mbounding_box,\n\u001b[1;32m   <a href='file:///Users/willbarnes/anaconda/envs/moxsi-dev/lib/python3.9/site-packages/gwcs/wcs.py?line=2224'>2225</a>\u001b[0m     bin_ext\u001b[39m=\u001b[39;49mbin_ext_name,\n\u001b[1;32m   <a href='file:///Users/willbarnes/anaconda/envs/moxsi-dev/lib/python3.9/site-packages/gwcs/wcs.py?line=2225'>2226</a>\u001b[0m     coord_col_name\u001b[39m=\u001b[39;49mcoord_col_name,\n\u001b[1;32m   <a href='file:///Users/willbarnes/anaconda/envs/moxsi-dev/lib/python3.9/site-packages/gwcs/wcs.py?line=2226'>2227</a>\u001b[0m     sampling\u001b[39m=\u001b[39;49msampling\n\u001b[1;32m   <a href='file:///Users/willbarnes/anaconda/envs/moxsi-dev/lib/python3.9/site-packages/gwcs/wcs.py?line=2227'>2228</a>\u001b[0m )\n\u001b[1;32m   <a href='file:///Users/willbarnes/anaconda/envs/moxsi-dev/lib/python3.9/site-packages/gwcs/wcs.py?line=2229'>2230</a>\u001b[0m \u001b[39mreturn\u001b[39;00m hdr, bin_table_hdu\n",
      "File \u001b[0;32m~/anaconda/envs/moxsi-dev/lib/python3.9/site-packages/gwcs/wcs.py:2633\u001b[0m, in \u001b[0;36mWCS._to_fits_tab\u001b[0;34m(self, hdr, world_axes_group, use_cd, bounding_box, bin_ext, coord_col_name, sampling)\u001b[0m\n\u001b[1;32m   <a href='file:///Users/willbarnes/anaconda/envs/moxsi-dev/lib/python3.9/site-packages/gwcs/wcs.py?line=2628'>2629</a>\u001b[0m shape \u001b[39m=\u001b[39m xyz[\u001b[39m0\u001b[39m]\u001b[39m.\u001b[39mshape\n\u001b[1;32m   <a href='file:///Users/willbarnes/anaconda/envs/moxsi-dev/lib/python3.9/site-packages/gwcs/wcs.py?line=2629'>2630</a>\u001b[0m xyz \u001b[39m=\u001b[39m [v\u001b[39m.\u001b[39mravel() \u001b[39mfor\u001b[39;00m v \u001b[39min\u001b[39;00m xyz]\n\u001b[1;32m   <a href='file:///Users/willbarnes/anaconda/envs/moxsi-dev/lib/python3.9/site-packages/gwcs/wcs.py?line=2631'>2632</a>\u001b[0m coord \u001b[39m=\u001b[39m np\u001b[39m.\u001b[39mstack(\n\u001b[0;32m-> <a href='file:///Users/willbarnes/anaconda/envs/moxsi-dev/lib/python3.9/site-packages/gwcs/wcs.py?line=2632'>2633</a>\u001b[0m     transform(\u001b[39m*\u001b[39;49mxyz),\n\u001b[1;32m   <a href='file:///Users/willbarnes/anaconda/envs/moxsi-dev/lib/python3.9/site-packages/gwcs/wcs.py?line=2633'>2634</a>\u001b[0m     axis\u001b[39m=\u001b[39m\u001b[39m-\u001b[39m\u001b[39m1\u001b[39m\n\u001b[1;32m   <a href='file:///Users/willbarnes/anaconda/envs/moxsi-dev/lib/python3.9/site-packages/gwcs/wcs.py?line=2634'>2635</a>\u001b[0m )\n\u001b[1;32m   <a href='file:///Users/willbarnes/anaconda/envs/moxsi-dev/lib/python3.9/site-packages/gwcs/wcs.py?line=2636'>2637</a>\u001b[0m coord \u001b[39m=\u001b[39m coord\u001b[39m.\u001b[39mreshape(shape \u001b[39m+\u001b[39m (\u001b[39mlen\u001b[39m(world_axes_group), ))\n\u001b[1;32m   <a href='file:///Users/willbarnes/anaconda/envs/moxsi-dev/lib/python3.9/site-packages/gwcs/wcs.py?line=2638'>2639</a>\u001b[0m \u001b[39m# create header with WCS info:\u001b[39;00m\n",
      "File \u001b[0;32m~/anaconda/envs/moxsi-dev/lib/python3.9/site-packages/astropy/modeling/core.py:1068\u001b[0m, in \u001b[0;36mModel.__call__\u001b[0;34m(self, *args, **kwargs)\u001b[0m\n\u001b[1;32m   <a href='file:///Users/willbarnes/anaconda/envs/moxsi-dev/lib/python3.9/site-packages/astropy/modeling/core.py?line=1064'>1065</a>\u001b[0m \u001b[39m# prepare for model evaluation (overridden in CompoundModel)\u001b[39;00m\n\u001b[1;32m   <a href='file:///Users/willbarnes/anaconda/envs/moxsi-dev/lib/python3.9/site-packages/astropy/modeling/core.py?line=1065'>1066</a>\u001b[0m evaluate, inputs, broadcasted_shapes, kwargs \u001b[39m=\u001b[39m \u001b[39mself\u001b[39m\u001b[39m.\u001b[39m_pre_evaluate(\u001b[39m*\u001b[39margs, \u001b[39m*\u001b[39m\u001b[39m*\u001b[39mkwargs)\n\u001b[0;32m-> <a href='file:///Users/willbarnes/anaconda/envs/moxsi-dev/lib/python3.9/site-packages/astropy/modeling/core.py?line=1067'>1068</a>\u001b[0m outputs \u001b[39m=\u001b[39m \u001b[39mself\u001b[39;49m\u001b[39m.\u001b[39;49m_generic_evaluate(evaluate, inputs,\n\u001b[1;32m   <a href='file:///Users/willbarnes/anaconda/envs/moxsi-dev/lib/python3.9/site-packages/astropy/modeling/core.py?line=1068'>1069</a>\u001b[0m                                  fill_value, with_bbox)\n\u001b[1;32m   <a href='file:///Users/willbarnes/anaconda/envs/moxsi-dev/lib/python3.9/site-packages/astropy/modeling/core.py?line=1070'>1071</a>\u001b[0m \u001b[39m# post-process evaluation results (overridden in CompoundModel)\u001b[39;00m\n\u001b[1;32m   <a href='file:///Users/willbarnes/anaconda/envs/moxsi-dev/lib/python3.9/site-packages/astropy/modeling/core.py?line=1071'>1072</a>\u001b[0m \u001b[39mreturn\u001b[39;00m \u001b[39mself\u001b[39m\u001b[39m.\u001b[39m_post_evaluate(inputs, outputs, broadcasted_shapes, with_bbox, \u001b[39m*\u001b[39m\u001b[39m*\u001b[39mkwargs)\n",
      "File \u001b[0;32m~/anaconda/envs/moxsi-dev/lib/python3.9/site-packages/astropy/modeling/core.py:1032\u001b[0m, in \u001b[0;36mModel._generic_evaluate\u001b[0;34m(self, evaluate, _inputs, fill_value, with_bbox)\u001b[0m\n\u001b[1;32m   <a href='file:///Users/willbarnes/anaconda/envs/moxsi-dev/lib/python3.9/site-packages/astropy/modeling/core.py?line=1029'>1030</a>\u001b[0m     outputs \u001b[39m=\u001b[39m bbox\u001b[39m.\u001b[39mevaluate(evaluate, _inputs, fill_value)\n\u001b[1;32m   <a href='file:///Users/willbarnes/anaconda/envs/moxsi-dev/lib/python3.9/site-packages/astropy/modeling/core.py?line=1030'>1031</a>\u001b[0m \u001b[39melse\u001b[39;00m:\n\u001b[0;32m-> <a href='file:///Users/willbarnes/anaconda/envs/moxsi-dev/lib/python3.9/site-packages/astropy/modeling/core.py?line=1031'>1032</a>\u001b[0m     outputs \u001b[39m=\u001b[39m evaluate(_inputs)\n\u001b[1;32m   <a href='file:///Users/willbarnes/anaconda/envs/moxsi-dev/lib/python3.9/site-packages/astropy/modeling/core.py?line=1032'>1033</a>\u001b[0m \u001b[39mreturn\u001b[39;00m outputs\n",
      "File \u001b[0;32m~/anaconda/envs/moxsi-dev/lib/python3.9/site-packages/astropy/modeling/core.py:3188\u001b[0m, in \u001b[0;36mCompoundModel._pre_evaluate.<locals>.evaluate\u001b[0;34m(_inputs)\u001b[0m\n\u001b[1;32m   <a href='file:///Users/willbarnes/anaconda/envs/moxsi-dev/lib/python3.9/site-packages/astropy/modeling/core.py?line=3186'>3187</a>\u001b[0m \u001b[39mdef\u001b[39;00m \u001b[39mevaluate\u001b[39m(_inputs):\n\u001b[0;32m-> <a href='file:///Users/willbarnes/anaconda/envs/moxsi-dev/lib/python3.9/site-packages/astropy/modeling/core.py?line=3187'>3188</a>\u001b[0m     \u001b[39mreturn\u001b[39;00m \u001b[39mself\u001b[39;49m\u001b[39m.\u001b[39;49m_evaluate(\u001b[39m*\u001b[39;49m_inputs, \u001b[39m*\u001b[39;49m\u001b[39m*\u001b[39;49mkwargs)\n",
      "File \u001b[0;32m~/anaconda/envs/moxsi-dev/lib/python3.9/site-packages/astropy/modeling/core.py:3214\u001b[0m, in \u001b[0;36mCompoundModel._evaluate\u001b[0;34m(self, *args, **kw)\u001b[0m\n\u001b[1;32m   <a href='file:///Users/willbarnes/anaconda/envs/moxsi-dev/lib/python3.9/site-packages/astropy/modeling/core.py?line=3211'>3212</a>\u001b[0m \u001b[39mif\u001b[39;00m op \u001b[39m!=\u001b[39m \u001b[39m'\u001b[39m\u001b[39mfix_inputs\u001b[39m\u001b[39m'\u001b[39m:\n\u001b[1;32m   <a href='file:///Users/willbarnes/anaconda/envs/moxsi-dev/lib/python3.9/site-packages/astropy/modeling/core.py?line=3212'>3213</a>\u001b[0m     \u001b[39mif\u001b[39;00m op \u001b[39m!=\u001b[39m \u001b[39m'\u001b[39m\u001b[39m&\u001b[39m\u001b[39m'\u001b[39m:\n\u001b[0;32m-> <a href='file:///Users/willbarnes/anaconda/envs/moxsi-dev/lib/python3.9/site-packages/astropy/modeling/core.py?line=3213'>3214</a>\u001b[0m         leftval \u001b[39m=\u001b[39m \u001b[39mself\u001b[39;49m\u001b[39m.\u001b[39;49mleft(\u001b[39m*\u001b[39;49margs, \u001b[39m*\u001b[39;49m\u001b[39m*\u001b[39;49mkw)\n\u001b[1;32m   <a href='file:///Users/willbarnes/anaconda/envs/moxsi-dev/lib/python3.9/site-packages/astropy/modeling/core.py?line=3214'>3215</a>\u001b[0m         \u001b[39mif\u001b[39;00m op \u001b[39m!=\u001b[39m \u001b[39m'\u001b[39m\u001b[39m|\u001b[39m\u001b[39m'\u001b[39m:\n\u001b[1;32m   <a href='file:///Users/willbarnes/anaconda/envs/moxsi-dev/lib/python3.9/site-packages/astropy/modeling/core.py?line=3215'>3216</a>\u001b[0m             rightval \u001b[39m=\u001b[39m \u001b[39mself\u001b[39m\u001b[39m.\u001b[39mright(\u001b[39m*\u001b[39margs, \u001b[39m*\u001b[39m\u001b[39m*\u001b[39mkw)\n",
      "File \u001b[0;32m~/anaconda/envs/moxsi-dev/lib/python3.9/site-packages/astropy/modeling/core.py:398\u001b[0m, in \u001b[0;36m__call__\u001b[0;34m(self, model_set_axis, with_bounding_box, fill_value, equivalencies, inputs_map, *inputs, **new_inputs)\u001b[0m\n\u001b[1;32m    <a href='file:///Users/willbarnes/anaconda/envs/moxsi-dev/lib/python3.9/site-packages/astropy/modeling/core.py?line=390'>391</a>\u001b[0m args \u001b[39m=\u001b[39m (\u001b[39m'\u001b[39m\u001b[39mself\u001b[39m\u001b[39m'\u001b[39m,)\n\u001b[1;32m    <a href='file:///Users/willbarnes/anaconda/envs/moxsi-dev/lib/python3.9/site-packages/astropy/modeling/core.py?line=391'>392</a>\u001b[0m kwargs \u001b[39m=\u001b[39m \u001b[39mdict\u001b[39m([(\u001b[39m'\u001b[39m\u001b[39mmodel_set_axis\u001b[39m\u001b[39m'\u001b[39m, \u001b[39mNone\u001b[39;00m),\n\u001b[1;32m    <a href='file:///Users/willbarnes/anaconda/envs/moxsi-dev/lib/python3.9/site-packages/astropy/modeling/core.py?line=392'>393</a>\u001b[0m                (\u001b[39m'\u001b[39m\u001b[39mwith_bounding_box\u001b[39m\u001b[39m'\u001b[39m, \u001b[39mFalse\u001b[39;00m),\n\u001b[1;32m    <a href='file:///Users/willbarnes/anaconda/envs/moxsi-dev/lib/python3.9/site-packages/astropy/modeling/core.py?line=393'>394</a>\u001b[0m                (\u001b[39m'\u001b[39m\u001b[39mfill_value\u001b[39m\u001b[39m'\u001b[39m, np\u001b[39m.\u001b[39mnan),\n\u001b[1;32m    <a href='file:///Users/willbarnes/anaconda/envs/moxsi-dev/lib/python3.9/site-packages/astropy/modeling/core.py?line=394'>395</a>\u001b[0m                (\u001b[39m'\u001b[39m\u001b[39mequivalencies\u001b[39m\u001b[39m'\u001b[39m, \u001b[39mNone\u001b[39;00m),\n\u001b[1;32m    <a href='file:///Users/willbarnes/anaconda/envs/moxsi-dev/lib/python3.9/site-packages/astropy/modeling/core.py?line=395'>396</a>\u001b[0m                (\u001b[39m'\u001b[39m\u001b[39minputs_map\u001b[39m\u001b[39m'\u001b[39m, \u001b[39mNone\u001b[39;00m)])\n\u001b[0;32m--> <a href='file:///Users/willbarnes/anaconda/envs/moxsi-dev/lib/python3.9/site-packages/astropy/modeling/core.py?line=397'>398</a>\u001b[0m new_call \u001b[39m=\u001b[39m make_function_with_signature(\n\u001b[1;32m    <a href='file:///Users/willbarnes/anaconda/envs/moxsi-dev/lib/python3.9/site-packages/astropy/modeling/core.py?line=398'>399</a>\u001b[0m     \u001b[39m__call__\u001b[39m, args, kwargs, varargs\u001b[39m=\u001b[39m\u001b[39m'\u001b[39m\u001b[39minputs\u001b[39m\u001b[39m'\u001b[39m, varkwargs\u001b[39m=\u001b[39m\u001b[39m'\u001b[39m\u001b[39mnew_inputs\u001b[39m\u001b[39m'\u001b[39m)\n\u001b[1;32m    <a href='file:///Users/willbarnes/anaconda/envs/moxsi-dev/lib/python3.9/site-packages/astropy/modeling/core.py?line=400'>401</a>\u001b[0m \u001b[39m# The following makes it look like __call__\u001b[39;00m\n\u001b[1;32m    <a href='file:///Users/willbarnes/anaconda/envs/moxsi-dev/lib/python3.9/site-packages/astropy/modeling/core.py?line=401'>402</a>\u001b[0m \u001b[39m# was defined in the class\u001b[39;00m\n\u001b[1;32m    <a href='file:///Users/willbarnes/anaconda/envs/moxsi-dev/lib/python3.9/site-packages/astropy/modeling/core.py?line=402'>403</a>\u001b[0m update_wrapper(new_call, \u001b[39mcls\u001b[39m)\n",
      "File \u001b[0;32m~/anaconda/envs/moxsi-dev/lib/python3.9/site-packages/astropy/modeling/core.py:377\u001b[0m, in \u001b[0;36m_ModelMeta._handle_special_methods.<locals>.__call__\u001b[0;34m(self, *inputs, **kwargs)\u001b[0m\n\u001b[1;32m    <a href='file:///Users/willbarnes/anaconda/envs/moxsi-dev/lib/python3.9/site-packages/astropy/modeling/core.py?line=374'>375</a>\u001b[0m \u001b[39mdef\u001b[39;00m \u001b[39m__call__\u001b[39m(\u001b[39mself\u001b[39m, \u001b[39m*\u001b[39minputs, \u001b[39m*\u001b[39m\u001b[39m*\u001b[39mkwargs):\n\u001b[1;32m    <a href='file:///Users/willbarnes/anaconda/envs/moxsi-dev/lib/python3.9/site-packages/astropy/modeling/core.py?line=375'>376</a>\u001b[0m     \u001b[39m\"\"\"Evaluate this model on the supplied inputs.\"\"\"\u001b[39;00m\n\u001b[0;32m--> <a href='file:///Users/willbarnes/anaconda/envs/moxsi-dev/lib/python3.9/site-packages/astropy/modeling/core.py?line=376'>377</a>\u001b[0m     \u001b[39mreturn\u001b[39;00m \u001b[39msuper\u001b[39;49m(\u001b[39mcls\u001b[39;49m, \u001b[39mself\u001b[39;49m)\u001b[39m.\u001b[39;49m\u001b[39m__call__\u001b[39;49m(\u001b[39m*\u001b[39;49minputs, \u001b[39m*\u001b[39;49m\u001b[39m*\u001b[39;49mkwargs)\n",
      "File \u001b[0;32m~/anaconda/envs/moxsi-dev/lib/python3.9/site-packages/astropy/modeling/core.py:1066\u001b[0m, in \u001b[0;36mModel.__call__\u001b[0;34m(self, *args, **kwargs)\u001b[0m\n\u001b[1;32m   <a href='file:///Users/willbarnes/anaconda/envs/moxsi-dev/lib/python3.9/site-packages/astropy/modeling/core.py?line=1062'>1063</a>\u001b[0m fill_value \u001b[39m=\u001b[39m kwargs\u001b[39m.\u001b[39mpop(\u001b[39m'\u001b[39m\u001b[39mfill_value\u001b[39m\u001b[39m'\u001b[39m, np\u001b[39m.\u001b[39mnan)\n\u001b[1;32m   <a href='file:///Users/willbarnes/anaconda/envs/moxsi-dev/lib/python3.9/site-packages/astropy/modeling/core.py?line=1064'>1065</a>\u001b[0m \u001b[39m# prepare for model evaluation (overridden in CompoundModel)\u001b[39;00m\n\u001b[0;32m-> <a href='file:///Users/willbarnes/anaconda/envs/moxsi-dev/lib/python3.9/site-packages/astropy/modeling/core.py?line=1065'>1066</a>\u001b[0m evaluate, inputs, broadcasted_shapes, kwargs \u001b[39m=\u001b[39m \u001b[39mself\u001b[39;49m\u001b[39m.\u001b[39;49m_pre_evaluate(\u001b[39m*\u001b[39;49margs, \u001b[39m*\u001b[39;49m\u001b[39m*\u001b[39;49mkwargs)\n\u001b[1;32m   <a href='file:///Users/willbarnes/anaconda/envs/moxsi-dev/lib/python3.9/site-packages/astropy/modeling/core.py?line=1067'>1068</a>\u001b[0m outputs \u001b[39m=\u001b[39m \u001b[39mself\u001b[39m\u001b[39m.\u001b[39m_generic_evaluate(evaluate, inputs,\n\u001b[1;32m   <a href='file:///Users/willbarnes/anaconda/envs/moxsi-dev/lib/python3.9/site-packages/astropy/modeling/core.py?line=1068'>1069</a>\u001b[0m                                  fill_value, with_bbox)\n\u001b[1;32m   <a href='file:///Users/willbarnes/anaconda/envs/moxsi-dev/lib/python3.9/site-packages/astropy/modeling/core.py?line=1070'>1071</a>\u001b[0m \u001b[39m# post-process evaluation results (overridden in CompoundModel)\u001b[39;00m\n",
      "File \u001b[0;32m~/anaconda/envs/moxsi-dev/lib/python3.9/site-packages/astropy/modeling/core.py:922\u001b[0m, in \u001b[0;36mModel._pre_evaluate\u001b[0;34m(self, *args, **kwargs)\u001b[0m\n\u001b[1;32m    <a href='file:///Users/willbarnes/anaconda/envs/moxsi-dev/lib/python3.9/site-packages/astropy/modeling/core.py?line=916'>917</a>\u001b[0m \u001b[39m\"\"\"\u001b[39;00m\n\u001b[1;32m    <a href='file:///Users/willbarnes/anaconda/envs/moxsi-dev/lib/python3.9/site-packages/astropy/modeling/core.py?line=917'>918</a>\u001b[0m \u001b[39mModel specific input setup that needs to occur prior to model evaluation\u001b[39;00m\n\u001b[1;32m    <a href='file:///Users/willbarnes/anaconda/envs/moxsi-dev/lib/python3.9/site-packages/astropy/modeling/core.py?line=918'>919</a>\u001b[0m \u001b[39m\"\"\"\u001b[39;00m\n\u001b[1;32m    <a href='file:///Users/willbarnes/anaconda/envs/moxsi-dev/lib/python3.9/site-packages/astropy/modeling/core.py?line=920'>921</a>\u001b[0m \u001b[39m# Broadcast inputs into common size\u001b[39;00m\n\u001b[0;32m--> <a href='file:///Users/willbarnes/anaconda/envs/moxsi-dev/lib/python3.9/site-packages/astropy/modeling/core.py?line=921'>922</a>\u001b[0m inputs, broadcasted_shapes \u001b[39m=\u001b[39m \u001b[39mself\u001b[39;49m\u001b[39m.\u001b[39;49mprepare_inputs(\u001b[39m*\u001b[39;49margs, \u001b[39m*\u001b[39;49m\u001b[39m*\u001b[39;49mkwargs)\n\u001b[1;32m    <a href='file:///Users/willbarnes/anaconda/envs/moxsi-dev/lib/python3.9/site-packages/astropy/modeling/core.py?line=923'>924</a>\u001b[0m \u001b[39m# Setup actual model evaluation method\u001b[39;00m\n\u001b[1;32m    <a href='file:///Users/willbarnes/anaconda/envs/moxsi-dev/lib/python3.9/site-packages/astropy/modeling/core.py?line=924'>925</a>\u001b[0m parameters \u001b[39m=\u001b[39m \u001b[39mself\u001b[39m\u001b[39m.\u001b[39m_param_sets(raw\u001b[39m=\u001b[39m\u001b[39mTrue\u001b[39;00m, units\u001b[39m=\u001b[39m\u001b[39mTrue\u001b[39;00m)\n",
      "File \u001b[0;32m~/anaconda/envs/moxsi-dev/lib/python3.9/site-packages/astropy/modeling/core.py:2011\u001b[0m, in \u001b[0;36mModel.prepare_inputs\u001b[0;34m(self, model_set_axis, equivalencies, *inputs, **kwargs)\u001b[0m\n\u001b[1;32m   <a href='file:///Users/willbarnes/anaconda/envs/moxsi-dev/lib/python3.9/site-packages/astropy/modeling/core.py?line=2006'>2007</a>\u001b[0m \u001b[39mself\u001b[39m\u001b[39m.\u001b[39m_validate_input_shapes(inputs, \u001b[39mself\u001b[39m\u001b[39m.\u001b[39minputs, model_set_axis)\n\u001b[1;32m   <a href='file:///Users/willbarnes/anaconda/envs/moxsi-dev/lib/python3.9/site-packages/astropy/modeling/core.py?line=2008'>2009</a>\u001b[0m inputs_map \u001b[39m=\u001b[39m kwargs\u001b[39m.\u001b[39mget(\u001b[39m'\u001b[39m\u001b[39minputs_map\u001b[39m\u001b[39m'\u001b[39m, \u001b[39mNone\u001b[39;00m)\n\u001b[0;32m-> <a href='file:///Users/willbarnes/anaconda/envs/moxsi-dev/lib/python3.9/site-packages/astropy/modeling/core.py?line=2010'>2011</a>\u001b[0m inputs \u001b[39m=\u001b[39m \u001b[39mself\u001b[39;49m\u001b[39m.\u001b[39;49m_validate_input_units(inputs, equivalencies, inputs_map)\n\u001b[1;32m   <a href='file:///Users/willbarnes/anaconda/envs/moxsi-dev/lib/python3.9/site-packages/astropy/modeling/core.py?line=2012'>2013</a>\u001b[0m \u001b[39m# The input formatting required for single models versus a multiple\u001b[39;00m\n\u001b[1;32m   <a href='file:///Users/willbarnes/anaconda/envs/moxsi-dev/lib/python3.9/site-packages/astropy/modeling/core.py?line=2013'>2014</a>\u001b[0m \u001b[39m# model set are different enough that they've been split into separate\u001b[39;00m\n\u001b[1;32m   <a href='file:///Users/willbarnes/anaconda/envs/moxsi-dev/lib/python3.9/site-packages/astropy/modeling/core.py?line=2014'>2015</a>\u001b[0m \u001b[39m# subroutines\u001b[39;00m\n\u001b[1;32m   <a href='file:///Users/willbarnes/anaconda/envs/moxsi-dev/lib/python3.9/site-packages/astropy/modeling/core.py?line=2015'>2016</a>\u001b[0m \u001b[39mif\u001b[39;00m \u001b[39mself\u001b[39m\u001b[39m.\u001b[39m_n_models \u001b[39m==\u001b[39m \u001b[39m1\u001b[39m:\n",
      "File \u001b[0;32m~/anaconda/envs/moxsi-dev/lib/python3.9/site-packages/astropy/modeling/core.py:2107\u001b[0m, in \u001b[0;36mModel._validate_input_units\u001b[0;34m(self, inputs, equivalencies, inputs_map)\u001b[0m\n\u001b[1;32m   <a href='file:///Users/willbarnes/anaconda/envs/moxsi-dev/lib/python3.9/site-packages/astropy/modeling/core.py?line=2102'>2103</a>\u001b[0m             \u001b[39mif\u001b[39;00m (\u001b[39mnot\u001b[39;00m \u001b[39mself\u001b[39m\u001b[39m.\u001b[39minput_units_allow_dimensionless[input_name] \u001b[39mand\u001b[39;00m\n\u001b[1;32m   <a href='file:///Users/willbarnes/anaconda/envs/moxsi-dev/lib/python3.9/site-packages/astropy/modeling/core.py?line=2103'>2104</a>\u001b[0m                 input_unit \u001b[39mis\u001b[39;00m \u001b[39mnot\u001b[39;00m dimensionless_unscaled \u001b[39mand\u001b[39;00m\n\u001b[1;32m   <a href='file:///Users/willbarnes/anaconda/envs/moxsi-dev/lib/python3.9/site-packages/astropy/modeling/core.py?line=2104'>2105</a>\u001b[0m                 input_unit \u001b[39mis\u001b[39;00m \u001b[39mnot\u001b[39;00m \u001b[39mNone\u001b[39;00m):\n\u001b[1;32m   <a href='file:///Users/willbarnes/anaconda/envs/moxsi-dev/lib/python3.9/site-packages/astropy/modeling/core.py?line=2105'>2106</a>\u001b[0m                 \u001b[39mif\u001b[39;00m np\u001b[39m.\u001b[39many(inputs[i] \u001b[39m!=\u001b[39m \u001b[39m0\u001b[39m):\n\u001b[0;32m-> <a href='file:///Users/willbarnes/anaconda/envs/moxsi-dev/lib/python3.9/site-packages/astropy/modeling/core.py?line=2106'>2107</a>\u001b[0m                     \u001b[39mraise\u001b[39;00m UnitsError(\u001b[39m\"\u001b[39m\u001b[39m{0}\u001b[39;00m\u001b[39m: Units of input \u001b[39m\u001b[39m'\u001b[39m\u001b[39m{1}\u001b[39;00m\u001b[39m'\u001b[39m\u001b[39m, (dimensionless), could not be \u001b[39m\u001b[39m\"\u001b[39m\n\u001b[1;32m   <a href='file:///Users/willbarnes/anaconda/envs/moxsi-dev/lib/python3.9/site-packages/astropy/modeling/core.py?line=2107'>2108</a>\u001b[0m                                      \u001b[39m\"\u001b[39m\u001b[39mconverted to required input units of \u001b[39m\u001b[39m\"\u001b[39m\n\u001b[1;32m   <a href='file:///Users/willbarnes/anaconda/envs/moxsi-dev/lib/python3.9/site-packages/astropy/modeling/core.py?line=2108'>2109</a>\u001b[0m                                      \u001b[39m\"\u001b[39m\u001b[39m{2}\u001b[39;00m\u001b[39m (\u001b[39m\u001b[39m{3}\u001b[39;00m\u001b[39m)\u001b[39m\u001b[39m\"\u001b[39m\u001b[39m.\u001b[39mformat(name, \u001b[39mself\u001b[39m\u001b[39m.\u001b[39minputs[i], input_unit,\n\u001b[1;32m   <a href='file:///Users/willbarnes/anaconda/envs/moxsi-dev/lib/python3.9/site-packages/astropy/modeling/core.py?line=2109'>2110</a>\u001b[0m                                                         input_unit\u001b[39m.\u001b[39mphysical_type))\n\u001b[1;32m   <a href='file:///Users/willbarnes/anaconda/envs/moxsi-dev/lib/python3.9/site-packages/astropy/modeling/core.py?line=2110'>2111</a>\u001b[0m \u001b[39mreturn\u001b[39;00m inputs\n",
      "\u001b[0;31mUnitsError\u001b[0m: Tabular1D: Units of input 'x', (dimensionless), could not be converted to required input units of pix (unknown)"
     ]
    }
   ],
   "source": [
    "wave_gwcs.to_fits_tab(bounding_box=[1,1072])"
   ]
  },
  {
   "cell_type": "code",
   "execution_count": null,
   "metadata": {},
   "outputs": [],
   "source": []
  }
 ],
 "metadata": {
  "interpreter": {
   "hash": "483d3e286f47377cd75b0b13b7cda02b28091785fef97b0f4cde78d6f957a4e0"
  },
  "kernelspec": {
   "display_name": "Python 3.9.7 ('moxsi-dev')",
   "language": "python",
   "name": "python3"
  },
  "language_info": {
   "codemirror_mode": {
    "name": "ipython",
    "version": 3
   },
   "file_extension": ".py",
   "mimetype": "text/x-python",
   "name": "python",
   "nbconvert_exporter": "python",
   "pygments_lexer": "ipython3",
   "version": "3.9.7"
  },
  "orig_nbformat": 4
 },
 "nbformat": 4,
 "nbformat_minor": 2
}
