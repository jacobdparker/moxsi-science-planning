{
 "cells": [
  {
   "cell_type": "code",
   "execution_count": 2,
   "metadata": {},
   "outputs": [],
   "source": [
    "import sympy"
   ]
  },
  {
   "cell_type": "markdown",
   "metadata": {},
   "source": [
    "# Notes on `PCi_j` Formalism for Overlappograms"
   ]
  },
  {
   "cell_type": "markdown",
   "id": "7af86b86-6804-45af-ac63-5f4bf189b6b3",
   "metadata": {},
   "source": [
    "From the `PCi_j` formalism, the conversion between intermediate world coordinates and pixel coordinates is given by (from Greisen and Calabretta, 2002),\n",
    "\n",
    "$$\n",
    "x_i = s_iq_i \\\\\n",
    "q_i = m_{ij}(p_j - r_j)\n",
    "$$\n",
    "\n",
    "or in more explicit matrix notation,\n",
    "\n",
    "$$\n",
    "X = sQ \\\\\n",
    "Q = MP\n",
    "$$\n",
    "\n",
    "In other words, we transform our pixel coordinates $P$ to our intermediate world coordinates $Q$ through the transformation $M$. \n",
    "This matrix $M$ is typically referred to as the `PCi_j` matrix, where $i$ indexes the world coordinates and $j$ the pixel coordinates.\n",
    "$s$ is a scalar that represents the `CDELT` conversion factor between pixel units and world units.\n",
    "\n",
    "The resulting `PC_ij` matrix for our overlappogram **assuming that the dispersion and latitude world axes are aligned with the y-like pixel axis, $p_2$**,\n",
    "\n",
    "$$\n",
    "D(\\mu) = \\begin{bmatrix}\n",
    "1 & 0 & 0 \\\\\n",
    "0 & 1 & -\\mu \\\\\n",
    "0 & 0 & 1\n",
    "\\end{bmatrix}\n",
    "$$\n",
    "\n",
    "where $\\mu$ is the order of the dispersion.\n",
    "\n",
    "In general, the dispersion axis may be oriented at some angle $\\gamma$ relative to $p_2$.\n",
    "Thus, before applying $D$, we rotate $P$ by $\\gamma$ into $P^\\prime$ such that $P^\\prime=R(\\gamma)P$ where $R$ is the usual rotation matrix,\n",
    "\n",
    "$$\n",
    "R(\\theta) = \\begin{bmatrix}\n",
    "\\cos\\theta & -\\sin\\theta & 0 \\\\\n",
    "\\sin\\theta & \\cos\\theta & 0 \\\\\n",
    "0 & 0 & 1\n",
    "\\end{bmatrix}\n",
    "$$\n",
    "\n",
    "Lastly, we apply a rotation to align $P^\\prime$ with the intermediate world axes $Q$ such that $Q=R(-\\beta)P^\\prime$.\n",
    "Note that this angle $\\beta$ is the relative orientation between $P^\\prime$ and $Q$. \n",
    "However, we will typically be measuring the satellite roll angle relative to the original pixel axes $P$.\n",
    "Thus, $\\beta=\\alpha-\\gamma$ where $\\alpha$ is the orientation of solar north relative to $p_2$.\n",
    "\n",
    "The full `PC` matrix can thus be written as,\n",
    "\n",
    "$$\n",
    "M = R(-(\\alpha-\\gamma))D(\\mu)R(-\\gamma)\n",
    "$$\n",
    "\n",
    "which can be written explicitly as,\n",
    "\n",
    "$$\n",
    "M = \\begin{bmatrix}\n",
    "\\cos{\\left(\\alpha \\right)} & \\sin{\\left(\\alpha \\right)} & - \\mu \\sin{\\left(\\alpha - \\gamma \\right)}\\\\\n",
    "-\\sin{\\left(\\alpha \\right)} & \\cos{\\left(\\alpha \\right)} & - \\mu \\cos{\\left(\\alpha - \\gamma \\right)}\\\\\n",
    "0 & 0 & 1\n",
    "\\end{bmatrix}\n",
    "$$\n",
    "\n",
    "We can evaluate this matrix product with `sympy` and look at a few example cases."
   ]
  },
  {
   "cell_type": "code",
   "execution_count": 52,
   "id": "fac037ec",
   "metadata": {},
   "outputs": [],
   "source": [
    "mu = sympy.symbols('mu')\n",
    "gamma = sympy.symbols('gamma')\n",
    "alpha = sympy.symbols('alpha')\n",
    "theta = sympy.symbols('theta')\n",
    "phi = sympy.symbols('phi')\n",
    "rotation = sympy.Matrix([\n",
    "    [sympy.cos(theta), -sympy.sin(theta), 0],\n",
    "    [sympy.sin(theta), sympy.cos(theta), 0],\n",
    "    [0, 0, 1]\n",
    "])\n",
    "dispersion = sympy.Matrix([\n",
    "    [1, 0, 0],\n",
    "    [0, 1, mu],\n",
    "    [0 ,0, 1],\n",
    "])"
   ]
  },
  {
   "cell_type": "code",
   "execution_count": 53,
   "id": "b74f2c6d",
   "metadata": {},
   "outputs": [
    {
     "data": {
      "text/latex": [
       "$\\displaystyle \\left[\\begin{matrix}\\cos{\\left(\\alpha \\right)} & \\sin{\\left(\\alpha \\right)} & \\mu \\sin{\\left(\\alpha - \\gamma \\right)}\\\\- \\sin{\\left(\\alpha \\right)} & \\cos{\\left(\\alpha \\right)} & \\mu \\cos{\\left(\\alpha - \\gamma \\right)}\\\\0 & 0 & 1\\end{matrix}\\right]$"
      ],
      "text/plain": [
       "Matrix([\n",
       "[ cos(alpha), sin(alpha), mu*sin(alpha - gamma)],\n",
       "[-sin(alpha), cos(alpha), mu*cos(alpha - gamma)],\n",
       "[          0,          0,                     1]])"
      ]
     },
     "execution_count": 53,
     "metadata": {},
     "output_type": "execute_result"
    }
   ],
   "source": [
    "PC_matrix = rotation.subs(theta, -(alpha-gamma)) * dispersion * rotation.subs(theta, -gamma)\n",
    "PC_matrix.simplify()\n",
    "PC_matrix"
   ]
  },
  {
   "cell_type": "markdown",
   "id": "4e0adb0b",
   "metadata": {},
   "source": [
    "We can evaluate the `PCi_j` matrix at a few different combinations of $\\alpha,\\gamma,\\mu$."
   ]
  },
  {
   "cell_type": "code",
   "execution_count": 19,
   "id": "684b6ac3",
   "metadata": {},
   "outputs": [
    {
     "name": "stdout",
     "output_type": "stream",
     "text": [
      "alpha=0, gamma=0, mu=0\n",
      "-----------------------------\n",
      "⎡1  0  0⎤\n",
      "⎢       ⎥\n",
      "⎢0  1  0⎥\n",
      "⎢       ⎥\n",
      "⎣0  0  1⎦\n",
      "alpha=0, gamma=0, mu=1\n",
      "-----------------------------\n",
      "⎡1  0  0 ⎤\n",
      "⎢        ⎥\n",
      "⎢0  1  -1⎥\n",
      "⎢        ⎥\n",
      "⎣0  0  1 ⎦\n",
      "alpha=pi/2, gamma=0, mu=1\n",
      "-----------------------------\n",
      "⎡0   1  -1⎤\n",
      "⎢         ⎥\n",
      "⎢-1  0  0 ⎥\n",
      "⎢         ⎥\n",
      "⎣0   0  1 ⎦\n",
      "alpha=0, gamma=pi/2, mu=1\n",
      "-----------------------------\n",
      "⎡1  0  1⎤\n",
      "⎢       ⎥\n",
      "⎢0  1  0⎥\n",
      "⎢       ⎥\n",
      "⎣0  0  1⎦\n",
      "alpha=pi/2, gamma=pi/2, mu=1\n",
      "-----------------------------\n",
      "⎡0   1  0 ⎤\n",
      "⎢         ⎥\n",
      "⎢-1  0  -1⎥\n",
      "⎢         ⎥\n",
      "⎣0   0  1 ⎦\n",
      "alpha=pi/4, gamma=0, mu=1\n",
      "-----------------------------\n",
      "⎡ √2   √2  -√2 ⎤\n",
      "⎢ ──   ──  ────⎥\n",
      "⎢ 2    2    2  ⎥\n",
      "⎢              ⎥\n",
      "⎢-√2   √2  -√2 ⎥\n",
      "⎢────  ──  ────⎥\n",
      "⎢ 2    2    2  ⎥\n",
      "⎢              ⎥\n",
      "⎣ 0    0    1  ⎦\n",
      "alpha=0, gamma=pi/4, mu=1\n",
      "-----------------------------\n",
      "⎡       √2 ⎤\n",
      "⎢1  0   ── ⎥\n",
      "⎢       2  ⎥\n",
      "⎢          ⎥\n",
      "⎢      -√2 ⎥\n",
      "⎢0  1  ────⎥\n",
      "⎢       2  ⎥\n",
      "⎢          ⎥\n",
      "⎣0  0   1  ⎦\n",
      "alpha=pi/4, gamma=pi/4, mu=1\n",
      "-----------------------------\n",
      "⎡ √2   √2    ⎤\n",
      "⎢ ──   ──  0 ⎥\n",
      "⎢ 2    2     ⎥\n",
      "⎢            ⎥\n",
      "⎢-√2   √2    ⎥\n",
      "⎢────  ──  -1⎥\n",
      "⎢ 2    2     ⎥\n",
      "⎢            ⎥\n",
      "⎣ 0    0   1 ⎦\n"
     ]
    }
   ],
   "source": [
    "for a,g,m in [(0,0,0),\n",
    "              (0,0,1),\n",
    "              (sympy.pi/2,0,1),\n",
    "              (0,sympy.pi/2,1),\n",
    "              (sympy.pi/2,sympy.pi/2,1),\n",
    "              (sympy.pi/4,0,1),\n",
    "              (0,sympy.pi/4,1),\n",
    "              (sympy.pi/4,sympy.pi/4,1)]:\n",
    "    print(f'alpha={a}, gamma={g}, mu={m}')\n",
    "    print('-----------------------------')\n",
    "    sympy.printing.pprint(PC_matrix.subs([(alpha, a),(gamma, g),(mu, m)]))"
   ]
  },
  {
   "cell_type": "markdown",
   "metadata": {},
   "source": [
    "Note that if we rearrange the last row of the dispersion matrix a bit such that the wavelength axis is instead correlated with the second pixel axis $p_2$,"
   ]
  },
  {
   "cell_type": "code",
   "execution_count": 22,
   "metadata": {},
   "outputs": [
    {
     "data": {
      "text/latex": [
       "$\\displaystyle \\left[\\begin{matrix}1 & 0 & 0\\\\0 & 1 & - \\mu\\\\0 & 1 & 0\\end{matrix}\\right]$"
      ],
      "text/plain": [
       "Matrix([\n",
       "[1, 0,   0],\n",
       "[0, 1, -mu],\n",
       "[0, 1,   0]])"
      ]
     },
     "execution_count": 22,
     "metadata": {},
     "output_type": "execute_result"
    }
   ],
   "source": [
    "dispersion_alt = sympy.Matrix([\n",
    "    [1, 0, 0],\n",
    "    [0, 1, -mu],\n",
    "    [0 ,1, 0],\n",
    "])\n",
    "dispersion_alt"
   ]
  },
  {
   "cell_type": "code",
   "execution_count": 23,
   "metadata": {},
   "outputs": [
    {
     "data": {
      "text/latex": [
       "$\\displaystyle \\left[\\begin{matrix}\\cos{\\left(\\alpha \\right)} & \\sin{\\left(\\alpha \\right)} & - \\mu \\sin{\\left(\\alpha - \\gamma \\right)}\\\\- \\sin{\\left(\\alpha \\right)} & \\cos{\\left(\\alpha \\right)} & - \\mu \\cos{\\left(\\alpha - \\gamma \\right)}\\\\- \\sin{\\left(\\gamma \\right)} & \\cos{\\left(\\gamma \\right)} & 0\\end{matrix}\\right]$"
      ],
      "text/plain": [
       "Matrix([\n",
       "[ cos(alpha), sin(alpha), -mu*sin(alpha - gamma)],\n",
       "[-sin(alpha), cos(alpha), -mu*cos(alpha - gamma)],\n",
       "[-sin(gamma), cos(gamma),                      0]])"
      ]
     },
     "execution_count": 23,
     "metadata": {},
     "output_type": "execute_result"
    }
   ],
   "source": [
    "PC_matrix_alt = rotation.subs(theta, alpha-gamma) * dispersion_alt * rotation.subs(theta, gamma)\n",
    "PC_matrix_alt.simplify()\n",
    "PC_matrix_alt"
   ]
  },
  {
   "cell_type": "code",
   "execution_count": 54,
   "metadata": {},
   "outputs": [],
   "source": [
    "p = sympy.symarray('p', 3)\n",
    "r = sympy.symarray('r', 3)\n",
    "pix_coord = sympy.Matrix([\n",
    "    p[0] - r[0],\n",
    "    p[1] - r[1],\n",
    "    p[2] - r[2],\n",
    "])"
   ]
  },
  {
   "cell_type": "code",
   "execution_count": 55,
   "metadata": {},
   "outputs": [
    {
     "data": {
      "text/latex": [
       "$\\displaystyle \\left[\\begin{matrix}p_{0} - r_{0}\\\\p_{1} - r_{1}\\\\p_{2} - r_{2}\\end{matrix}\\right]$"
      ],
      "text/plain": [
       "Matrix([\n",
       "[p_0 - r_0],\n",
       "[p_1 - r_1],\n",
       "[p_2 - r_2]])"
      ]
     },
     "execution_count": 55,
     "metadata": {},
     "output_type": "execute_result"
    }
   ],
   "source": [
    "pix_coord"
   ]
  },
  {
   "cell_type": "code",
   "execution_count": 56,
   "metadata": {},
   "outputs": [],
   "source": [
    "world_coord = PC_matrix * pix_coord"
   ]
  },
  {
   "cell_type": "code",
   "execution_count": 57,
   "metadata": {},
   "outputs": [
    {
     "data": {
      "text/latex": [
       "$\\displaystyle \\left[\\begin{matrix}\\mu \\left(p_{2} - r_{2}\\right) \\sin{\\left(\\alpha - \\gamma \\right)} + \\left(p_{0} - r_{0}\\right) \\cos{\\left(\\alpha \\right)} + \\left(p_{1} - r_{1}\\right) \\sin{\\left(\\alpha \\right)}\\\\\\mu \\left(p_{2} - r_{2}\\right) \\cos{\\left(\\alpha - \\gamma \\right)} - \\left(p_{0} - r_{0}\\right) \\sin{\\left(\\alpha \\right)} + \\left(p_{1} - r_{1}\\right) \\cos{\\left(\\alpha \\right)}\\\\p_{2} - r_{2}\\end{matrix}\\right]$"
      ],
      "text/plain": [
       "Matrix([\n",
       "[mu*(p_2 - r_2)*sin(alpha - gamma) + (p_0 - r_0)*cos(alpha) + (p_1 - r_1)*sin(alpha)],\n",
       "[mu*(p_2 - r_2)*cos(alpha - gamma) - (p_0 - r_0)*sin(alpha) + (p_1 - r_1)*cos(alpha)],\n",
       "[                                                                          p_2 - r_2]])"
      ]
     },
     "execution_count": 57,
     "metadata": {},
     "output_type": "execute_result"
    }
   ],
   "source": [
    "world_coord"
   ]
  },
  {
   "cell_type": "code",
   "execution_count": 69,
   "metadata": {},
   "outputs": [],
   "source": [
    "data_shape = (1073, 2000, 750)"
   ]
  },
  {
   "cell_type": "code",
   "execution_count": 70,
   "metadata": {},
   "outputs": [
    {
     "data": {
      "text/latex": [
       "$\\displaystyle \\left[\\begin{matrix}p_{0} - 375.5\\\\p_{1} + p_{2} - 1001.5\\\\p_{2} - 1\\end{matrix}\\right]$"
      ],
      "text/plain": [
       "Matrix([\n",
       "[       p_0 - 375.5],\n",
       "[p_1 + p_2 - 1001.5],\n",
       "[           p_2 - 1]])"
      ]
     },
     "execution_count": 70,
     "metadata": {},
     "output_type": "execute_result"
    }
   ],
   "source": [
    "Q = world_coord.subs([\n",
    "    (alpha, 0),\n",
    "    (gamma, 0),\n",
    "    (mu, 1),\n",
    "    (r[0], (data_shape[2] + 1)/2),\n",
    "    (r[1], (data_shape[1] + 1)/2),\n",
    "    (r[2], 1),#(data_shape[0] + 1)/2),\n",
    "])\n",
    "Q"
   ]
  },
  {
   "cell_type": "code",
   "execution_count": 71,
   "metadata": {},
   "outputs": [
    {
     "data": {
      "text/latex": [
       "$\\displaystyle \\left[\\begin{matrix}0\\\\2.0\\\\2\\end{matrix}\\right]$"
      ],
      "text/plain": [
       "Matrix([\n",
       "[  0],\n",
       "[2.0],\n",
       "[  2]])"
      ]
     },
     "execution_count": 71,
     "metadata": {},
     "output_type": "execute_result"
    }
   ],
   "source": [
    "Q.subs([\n",
    "    (p[0], (data_shape[2] + 1)/2),\n",
    "    (p[1], (data_shape[1] + 1)/2),\n",
    "    (p[2], 3),\n",
    "])"
   ]
  },
  {
   "cell_type": "markdown",
   "metadata": {},
   "source": [
    "When "
   ]
  }
 ],
 "metadata": {
  "interpreter": {
   "hash": "483d3e286f47377cd75b0b13b7cda02b28091785fef97b0f4cde78d6f957a4e0"
  },
  "kernelspec": {
   "display_name": "Python 3.9.7 ('moxsi-dev')",
   "language": "python",
   "name": "python3"
  },
  "language_info": {
   "codemirror_mode": {
    "name": "ipython",
    "version": 3
   },
   "file_extension": ".py",
   "mimetype": "text/x-python",
   "name": "python",
   "nbconvert_exporter": "python",
   "pygments_lexer": "ipython3",
   "version": "3.9.7"
  },
  "orig_nbformat": 4
 },
 "nbformat": 4,
 "nbformat_minor": 2
}
