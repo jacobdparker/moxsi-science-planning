{
 "cells": [
  {
   "cell_type": "code",
   "execution_count": null,
   "id": "fff5866c-6ef2-442b-ae96-3040f7a87706",
   "metadata": {},
   "outputs": [],
   "source": []
  }
 ],
 "metadata": {
  "kernelspec": {
   "display_name": "Python [conda env:moxsi-dev]",
   "language": "python",
   "name": "conda-env-moxsi-dev-py"
  },
  "language_info": {
   "codemirror_mode": {
    "name": "ipython",
    "version": 3
   },
   "file_extension": ".py",
   "mimetype": "text/x-python",
   "name": "python",
   "nbconvert_exporter": "python",
   "pygments_lexer": "ipython3",
   "version": "3.9.7"
  }
 },
 "nbformat": 4,
 "nbformat_minor": 5
}
