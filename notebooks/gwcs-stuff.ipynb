{
 "cells": [
  {
   "cell_type": "markdown",
   "id": "6bbb85c5-a2d0-4c7a-a7f8-94f7e53086a3",
   "metadata": {},
   "source": [
    "# Create a MOXSI GWCS"
   ]
  },
  {
   "cell_type": "code",
   "execution_count": 2,
   "id": "5e963ac1-bfee-445c-b83a-9f6752b8b0bc",
   "metadata": {},
   "outputs": [],
   "source": [
    "import astropy.units\n",
    "import gwcs"
   ]
  },
  {
   "cell_type": "code",
   "execution_count": null,
   "id": "6687dae4-9f28-4df7-a82f-45b4db40b938",
   "metadata": {},
   "outputs": [],
   "source": []
  }
 ],
 "metadata": {
  "kernelspec": {
   "display_name": "Python [conda env:moxsi-dev]",
   "language": "python",
   "name": "conda-env-moxsi-dev-py"
  },
  "language_info": {
   "codemirror_mode": {
    "name": "ipython",
    "version": 3
   },
   "file_extension": ".py",
   "mimetype": "text/x-python",
   "name": "python",
   "nbconvert_exporter": "python",
   "pygments_lexer": "ipython3",
   "version": "3.9.7"
  }
 },
 "nbformat": 4,
 "nbformat_minor": 5
}
