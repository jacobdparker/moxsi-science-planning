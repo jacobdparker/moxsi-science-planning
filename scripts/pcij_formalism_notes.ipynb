{
 "cells": [
  {
   "cell_type": "code",
   "execution_count": 2,
   "metadata": {},
   "outputs": [],
   "source": [
    "import sympy"
   ]
  },
  {
   "cell_type": "markdown",
   "metadata": {},
   "source": [
    "# Notes on `PCi_j` Formalism for Overlappograms"
   ]
  },
  {
   "cell_type": "markdown",
   "id": "7af86b86-6804-45af-ac63-5f4bf189b6b3",
   "metadata": {},
   "source": [
    "From the `PCi_j` formalism, the conversion between intermediate world coordinates and pixel coordinates is given by (from Greisen and Calabretta, 2002),\n",
    "\n",
    "$$\n",
    "x_i = s_iq_i \\\\\n",
    "q_i = m_{ij}(p_j - r_j)\n",
    "$$\n",
    "\n",
    "or in more explicit matrix notation,\n",
    "\n",
    "$$\n",
    "X = sQ \\\\\n",
    "Q = MP\n",
    "$$\n",
    "\n",
    "In other words, we transform our pixel coordinates $P$ to our intermediate world coordinates $Q$ through the transformation $M$. \n",
    "This matrix $M$ is typically referred to as the `PCi_j` matrix, where $i$ indexes the world coordinates and $j$ the pixel coordinates.\n",
    "$s$ is a scalar that represents the `CDELT` conversion factor between pixel units and world units.\n",
    "\n",
    "The resulting `PC_ij` matrix for our overlappogram **assuming that the dispersion and latitude world axes are aligned with the y-like pixel axis, $p_2$**,\n",
    "\n",
    "$$\n",
    "D(\\mu) = \\begin{bmatrix}\n",
    "1 & 0 & 0 \\\\\n",
    "0 & 1 & -\\mu \\\\\n",
    "0 & 0 & 1\n",
    "\\end{bmatrix}\n",
    "$$\n",
    "\n",
    "where $\\mu$ is the order of the dispersion.\n",
    "\n",
    "In general, the dispersion axis may be oriented at some angle $\\gamma$ relative to $p_2$.\n",
    "Thus, before applying $D$, we rotate $P$ by $\\gamma$ into $P^\\prime$ such that $P^\\prime=R(\\gamma)P$ where $R$ is the usual rotation matrix,\n",
    "\n",
    "$$\n",
    "R(\\theta) = \\begin{bmatrix}\n",
    "\\cos\\theta & \\sin\\theta & 0 \\\\\n",
    "-\\sin\\theta & \\cos\\theta & 0 \\\\\n",
    "0 & 0 & 1\n",
    "\\end{bmatrix}\n",
    "$$\n",
    "\n",
    "Lastly, we apply a rotation to align $P^\\prime$ with the intermediate world axes $Q$ such that $Q=R(\\beta)P^\\prime$.\n",
    "Note that this angle $\\beta$ is the relative orientation between $P^\\prime$ and $Q$. \n",
    "However, we will typically be measuring the satellite roll angle relative to the original pixel axes $P$.\n",
    "Thus, $\\beta=\\alpha-\\gamma$ where $\\alpha$ is the orientation of solar north relative to $p_2$.\n",
    "\n",
    "The full `PC` matrix can thus be written as,\n",
    "\n",
    "$$\n",
    "M = R(\\alpha-\\gamma)D(\\mu)R(\\gamma)\n",
    "$$\n",
    "\n",
    "which can be written explicitly as,\n",
    "\n",
    "$$\n",
    "M = \\begin{bmatrix}\n",
    "\\cos{\\left(\\alpha \\right)} & \\sin{\\left(\\alpha \\right)} & - \\mu \\sin{\\left(\\alpha - \\gamma \\right)}\\\\\n",
    "- \\sin{\\left(\\alpha \\right)} & \\cos{\\left(\\alpha \\right)} & - \\mu \\cos{\\left(\\alpha - \\gamma \\right)}\\\\\n",
    "0 & 0 & 1\n",
    "\\end{bmatrix}\n",
    "$$\n",
    "\n",
    "We can evaluate this matrix product with `sympy` and look at a few example cases."
   ]
  },
  {
   "cell_type": "code",
   "execution_count": 17,
   "id": "fac037ec",
   "metadata": {},
   "outputs": [],
   "source": [
    "mu = sympy.symbols('mu')\n",
    "gamma = sympy.symbols('gamma')\n",
    "alpha = sympy.symbols('alpha')\n",
    "theta = sympy.symbols('theta')\n",
    "phi = sympy.symbols('phi')\n",
    "rotation = sympy.Matrix([\n",
    "    [sympy.cos(theta), sympy.sin(theta), 0],\n",
    "    [-sympy.sin(theta), sympy.cos(theta), 0],\n",
    "    [0, 0, 1]\n",
    "])\n",
    "dispersion = sympy.Matrix([\n",
    "    [1, 0, 0],\n",
    "    [0, 1, -mu],\n",
    "    [0 ,0, 1],\n",
    "])"
   ]
  },
  {
   "cell_type": "code",
   "execution_count": 18,
   "id": "b74f2c6d",
   "metadata": {},
   "outputs": [
    {
     "data": {
      "text/latex": [
       "$\\displaystyle \\left[\\begin{matrix}\\cos{\\left(\\alpha \\right)} & \\sin{\\left(\\alpha \\right)} & - \\mu \\sin{\\left(\\alpha - \\gamma \\right)}\\\\- \\sin{\\left(\\alpha \\right)} & \\cos{\\left(\\alpha \\right)} & - \\mu \\cos{\\left(\\alpha - \\gamma \\right)}\\\\0 & 0 & 1\\end{matrix}\\right]$"
      ],
      "text/plain": [
       "Matrix([\n",
       "[ cos(alpha), sin(alpha), -mu*sin(alpha - gamma)],\n",
       "[-sin(alpha), cos(alpha), -mu*cos(alpha - gamma)],\n",
       "[          0,          0,                      1]])"
      ]
     },
     "execution_count": 18,
     "metadata": {},
     "output_type": "execute_result"
    }
   ],
   "source": [
    "PC_matrix = rotation.subs(theta, alpha-gamma) * dispersion * rotation.subs(theta, gamma)\n",
    "PC_matrix.simplify()\n",
    "PC_matrix"
   ]
  },
  {
   "cell_type": "markdown",
   "id": "4e0adb0b",
   "metadata": {},
   "source": [
    "We can evaluate the `PCi_j` matrix at a few different combinations of $\\alpha,\\gamma,\\mu$."
   ]
  },
  {
   "cell_type": "code",
   "execution_count": 19,
   "id": "684b6ac3",
   "metadata": {},
   "outputs": [
    {
     "name": "stdout",
     "output_type": "stream",
     "text": [
      "alpha=0, gamma=0, mu=0\n",
      "-----------------------------\n",
      "⎡1  0  0⎤\n",
      "⎢       ⎥\n",
      "⎢0  1  0⎥\n",
      "⎢       ⎥\n",
      "⎣0  0  1⎦\n",
      "alpha=0, gamma=0, mu=1\n",
      "-----------------------------\n",
      "⎡1  0  0 ⎤\n",
      "⎢        ⎥\n",
      "⎢0  1  -1⎥\n",
      "⎢        ⎥\n",
      "⎣0  0  1 ⎦\n",
      "alpha=pi/2, gamma=0, mu=1\n",
      "-----------------------------\n",
      "⎡0   1  -1⎤\n",
      "⎢         ⎥\n",
      "⎢-1  0  0 ⎥\n",
      "⎢         ⎥\n",
      "⎣0   0  1 ⎦\n",
      "alpha=0, gamma=pi/2, mu=1\n",
      "-----------------------------\n",
      "⎡1  0  1⎤\n",
      "⎢       ⎥\n",
      "⎢0  1  0⎥\n",
      "⎢       ⎥\n",
      "⎣0  0  1⎦\n",
      "alpha=pi/2, gamma=pi/2, mu=1\n",
      "-----------------------------\n",
      "⎡0   1  0 ⎤\n",
      "⎢         ⎥\n",
      "⎢-1  0  -1⎥\n",
      "⎢         ⎥\n",
      "⎣0   0  1 ⎦\n",
      "alpha=pi/4, gamma=0, mu=1\n",
      "-----------------------------\n",
      "⎡ √2   √2  -√2 ⎤\n",
      "⎢ ──   ──  ────⎥\n",
      "⎢ 2    2    2  ⎥\n",
      "⎢              ⎥\n",
      "⎢-√2   √2  -√2 ⎥\n",
      "⎢────  ──  ────⎥\n",
      "⎢ 2    2    2  ⎥\n",
      "⎢              ⎥\n",
      "⎣ 0    0    1  ⎦\n",
      "alpha=0, gamma=pi/4, mu=1\n",
      "-----------------------------\n",
      "⎡       √2 ⎤\n",
      "⎢1  0   ── ⎥\n",
      "⎢       2  ⎥\n",
      "⎢          ⎥\n",
      "⎢      -√2 ⎥\n",
      "⎢0  1  ────⎥\n",
      "⎢       2  ⎥\n",
      "⎢          ⎥\n",
      "⎣0  0   1  ⎦\n",
      "alpha=pi/4, gamma=pi/4, mu=1\n",
      "-----------------------------\n",
      "⎡ √2   √2    ⎤\n",
      "⎢ ──   ──  0 ⎥\n",
      "⎢ 2    2     ⎥\n",
      "⎢            ⎥\n",
      "⎢-√2   √2    ⎥\n",
      "⎢────  ──  -1⎥\n",
      "⎢ 2    2     ⎥\n",
      "⎢            ⎥\n",
      "⎣ 0    0   1 ⎦\n"
     ]
    }
   ],
   "source": [
    "for a,g,m in [(0,0,0),\n",
    "              (0,0,1),\n",
    "              (sympy.pi/2,0,1),\n",
    "              (0,sympy.pi/2,1),\n",
    "              (sympy.pi/2,sympy.pi/2,1),\n",
    "              (sympy.pi/4,0,1),\n",
    "              (0,sympy.pi/4,1),\n",
    "              (sympy.pi/4,sympy.pi/4,1)]:\n",
    "    print(f'alpha={a}, gamma={g}, mu={m}')\n",
    "    print('-----------------------------')\n",
    "    sympy.printing.pprint(PC_matrix.subs([(alpha, a),(gamma, g),(mu, m)]))"
   ]
  },
  {
   "cell_type": "markdown",
   "metadata": {},
   "source": [
    "Note that if we rearrange the last row of the dispersion matrix a bit such that the wavelength axis is also correlated with the second pixel axis $p_2$"
   ]
  },
  {
   "cell_type": "code",
   "execution_count": 22,
   "metadata": {},
   "outputs": [
    {
     "data": {
      "text/latex": [
       "$\\displaystyle \\left[\\begin{matrix}1 & 0 & 0\\\\0 & 1 & - \\mu\\\\0 & 1 & 0\\end{matrix}\\right]$"
      ],
      "text/plain": [
       "Matrix([\n",
       "[1, 0,   0],\n",
       "[0, 1, -mu],\n",
       "[0, 1,   0]])"
      ]
     },
     "execution_count": 22,
     "metadata": {},
     "output_type": "execute_result"
    }
   ],
   "source": [
    "dispersion_alt = sympy.Matrix([\n",
    "    [1, 0, 0],\n",
    "    [0, 1, -mu],\n",
    "    [0 ,1, 0],\n",
    "])\n",
    "dispersion_alt"
   ]
  },
  {
   "cell_type": "code",
   "execution_count": 23,
   "metadata": {},
   "outputs": [
    {
     "data": {
      "text/latex": [
       "$\\displaystyle \\left[\\begin{matrix}\\cos{\\left(\\alpha \\right)} & \\sin{\\left(\\alpha \\right)} & - \\mu \\sin{\\left(\\alpha - \\gamma \\right)}\\\\- \\sin{\\left(\\alpha \\right)} & \\cos{\\left(\\alpha \\right)} & - \\mu \\cos{\\left(\\alpha - \\gamma \\right)}\\\\- \\sin{\\left(\\gamma \\right)} & \\cos{\\left(\\gamma \\right)} & 0\\end{matrix}\\right]$"
      ],
      "text/plain": [
       "Matrix([\n",
       "[ cos(alpha), sin(alpha), -mu*sin(alpha - gamma)],\n",
       "[-sin(alpha), cos(alpha), -mu*cos(alpha - gamma)],\n",
       "[-sin(gamma), cos(gamma),                      0]])"
      ]
     },
     "execution_count": 23,
     "metadata": {},
     "output_type": "execute_result"
    }
   ],
   "source": [
    "PC_matrix_alt = rotation.subs(theta, alpha-gamma) * dispersion_alt * rotation.subs(theta, gamma)\n",
    "PC_matrix_alt.simplify()\n",
    "PC_matrix_alt"
   ]
  },
  {
   "cell_type": "code",
   "execution_count": null,
   "metadata": {},
   "outputs": [],
   "source": []
  }
 ],
 "metadata": {
  "interpreter": {
   "hash": "483d3e286f47377cd75b0b13b7cda02b28091785fef97b0f4cde78d6f957a4e0"
  },
  "kernelspec": {
   "display_name": "Python 3.9.7 ('moxsi-dev')",
   "language": "python",
   "name": "python3"
  },
  "language_info": {
   "codemirror_mode": {
    "name": "ipython",
    "version": 3
   },
   "file_extension": ".py",
   "mimetype": "text/x-python",
   "name": "python",
   "nbconvert_exporter": "python",
   "pygments_lexer": "ipython3",
   "version": "3.9.7"
  },
  "orig_nbformat": 4
 },
 "nbformat": 4,
 "nbformat_minor": 2
}
